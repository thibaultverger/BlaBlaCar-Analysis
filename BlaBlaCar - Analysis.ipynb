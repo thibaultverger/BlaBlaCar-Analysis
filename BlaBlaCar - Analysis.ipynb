{
 "cells": [
  {
   "cell_type": "markdown",
   "metadata": {
    "id": "H6Z1DBRuhw3y"
   },
   "source": [
    "# BlaBlaCar - Analysis"
   ]
  },
  {
   "cell_type": "markdown",
   "metadata": {
    "id": "B3Q3JQgfhw39"
   },
   "source": [
    "## a)\tImporting & Cleaning Data:"
   ]
  },
  {
   "cell_type": "code",
   "execution_count": 2,
   "metadata": {
    "id": "RK41RLcThw3-"
   },
   "outputs": [],
   "source": [
    "# Import packages\n",
    "import pandas as pd\n",
    "import numpy as np\n",
    "import matplotlib.pyplot as plt  \n",
    "import seaborn as sns \n",
    "from sklearn.model_selection import train_test_split\n",
    "import statsmodels.api as sm\n",
    "from sklearn.linear_model import LogisticRegression\n",
    "from sklearn.cluster import KMeans"
   ]
  },
  {
   "cell_type": "code",
   "execution_count": 3,
   "metadata": {
    "colab": {
     "base_uri": "https://localhost:8080/",
     "height": 444
    },
    "id": "ZXwKOH9thw3_",
    "outputId": "3a2e062d-35d8-410a-890c-5973e861e224"
   },
   "outputs": [
    {
     "data": {
      "text/html": [
       "<div>\n",
       "<style scoped>\n",
       "    .dataframe tbody tr th:only-of-type {\n",
       "        vertical-align: middle;\n",
       "    }\n",
       "\n",
       "    .dataframe tbody tr th {\n",
       "        vertical-align: top;\n",
       "    }\n",
       "\n",
       "    .dataframe thead th {\n",
       "        text-align: right;\n",
       "    }\n",
       "</style>\n",
       "<table border=\"1\" class=\"dataframe\">\n",
       "  <thead>\n",
       "    <tr style=\"text-align: right;\">\n",
       "      <th></th>\n",
       "      <th>driver_id</th>\n",
       "      <th>offer_id</th>\n",
       "      <th>departure</th>\n",
       "      <th>arrival</th>\n",
       "      <th>trip_distance</th>\n",
       "      <th>offer_date</th>\n",
       "      <th>departure_date</th>\n",
       "      <th>price</th>\n",
       "      <th>nb_offers</th>\n",
       "      <th>photo</th>\n",
       "      <th>...</th>\n",
       "      <th>min_price_depd</th>\n",
       "      <th>mean_price_depd</th>\n",
       "      <th>sd_price_depd</th>\n",
       "      <th>seats_in_car</th>\n",
       "      <th>seat_sold</th>\n",
       "      <th>Driver_first_name</th>\n",
       "      <th>Satisfaction_Livel</th>\n",
       "      <th>nb_evaluation</th>\n",
       "      <th>driver_age</th>\n",
       "      <th>driver_gender</th>\n",
       "    </tr>\n",
       "  </thead>\n",
       "  <tbody>\n",
       "    <tr>\n",
       "      <th>0</th>\n",
       "      <td>123956</td>\n",
       "      <td>427719</td>\n",
       "      <td>Lyon</td>\n",
       "      <td>Paris</td>\n",
       "      <td>425.0</td>\n",
       "      <td>5-Jan-14</td>\n",
       "      <td>1/12/2014 17:30</td>\n",
       "      <td>28</td>\n",
       "      <td>526.0</td>\n",
       "      <td>0</td>\n",
       "      <td>...</td>\n",
       "      <td>20</td>\n",
       "      <td>29.071247</td>\n",
       "      <td>2.567809</td>\n",
       "      <td>4</td>\n",
       "      <td>0</td>\n",
       "      <td>Francois</td>\n",
       "      <td>Excellent</td>\n",
       "      <td>0</td>\n",
       "      <td>25</td>\n",
       "      <td>0</td>\n",
       "    </tr>\n",
       "    <tr>\n",
       "      <th>1</th>\n",
       "      <td>81617</td>\n",
       "      <td>280534</td>\n",
       "      <td>Lyon</td>\n",
       "      <td>Paris</td>\n",
       "      <td>429.0</td>\n",
       "      <td>2-Jan-14</td>\n",
       "      <td>1/6/2014 14:40</td>\n",
       "      <td>30</td>\n",
       "      <td>526.0</td>\n",
       "      <td>0</td>\n",
       "      <td>...</td>\n",
       "      <td>20</td>\n",
       "      <td>28.862133</td>\n",
       "      <td>3.189145</td>\n",
       "      <td>0</td>\n",
       "      <td>0</td>\n",
       "      <td>Corinne</td>\n",
       "      <td>Good</td>\n",
       "      <td>24</td>\n",
       "      <td>31</td>\n",
       "      <td>1</td>\n",
       "    </tr>\n",
       "    <tr>\n",
       "      <th>2</th>\n",
       "      <td>198167</td>\n",
       "      <td>657605</td>\n",
       "      <td>Lyon</td>\n",
       "      <td>Paris</td>\n",
       "      <td>429.0</td>\n",
       "      <td>2-Jan-14</td>\n",
       "      <td>1/6/2014 15:10</td>\n",
       "      <td>31</td>\n",
       "      <td>526.0</td>\n",
       "      <td>1</td>\n",
       "      <td>...</td>\n",
       "      <td>20</td>\n",
       "      <td>28.862133</td>\n",
       "      <td>3.189145</td>\n",
       "      <td>0</td>\n",
       "      <td>0</td>\n",
       "      <td>Laura</td>\n",
       "      <td>Excellent</td>\n",
       "      <td>1</td>\n",
       "      <td>31</td>\n",
       "      <td>1</td>\n",
       "    </tr>\n",
       "    <tr>\n",
       "      <th>3</th>\n",
       "      <td>282817</td>\n",
       "      <td>946022</td>\n",
       "      <td>Lyon</td>\n",
       "      <td>Paris</td>\n",
       "      <td>429.0</td>\n",
       "      <td>2-Jan-14</td>\n",
       "      <td>1/6/2014 15:30</td>\n",
       "      <td>25</td>\n",
       "      <td>526.0</td>\n",
       "      <td>1</td>\n",
       "      <td>...</td>\n",
       "      <td>20</td>\n",
       "      <td>28.862133</td>\n",
       "      <td>3.189145</td>\n",
       "      <td>3</td>\n",
       "      <td>3</td>\n",
       "      <td>Philippe</td>\n",
       "      <td>VeryGood</td>\n",
       "      <td>3</td>\n",
       "      <td>31</td>\n",
       "      <td>0</td>\n",
       "    </tr>\n",
       "    <tr>\n",
       "      <th>4</th>\n",
       "      <td>29640</td>\n",
       "      <td>94886</td>\n",
       "      <td>Lyon</td>\n",
       "      <td>Paris</td>\n",
       "      <td>435.0</td>\n",
       "      <td>5-Jan-14</td>\n",
       "      <td>1/19/2014 9:00</td>\n",
       "      <td>25</td>\n",
       "      <td>526.0</td>\n",
       "      <td>1</td>\n",
       "      <td>...</td>\n",
       "      <td>18</td>\n",
       "      <td>29.364803</td>\n",
       "      <td>2.784098</td>\n",
       "      <td>7</td>\n",
       "      <td>4</td>\n",
       "      <td>Antoine</td>\n",
       "      <td>VeryGood</td>\n",
       "      <td>10</td>\n",
       "      <td>26</td>\n",
       "      <td>0</td>\n",
       "    </tr>\n",
       "  </tbody>\n",
       "</table>\n",
       "<p>5 rows × 31 columns</p>\n",
       "</div>"
      ],
      "text/plain": [
       "   driver_id  offer_id departure arrival  trip_distance offer_date  \\\n",
       "0     123956    427719      Lyon   Paris          425.0   5-Jan-14   \n",
       "1      81617    280534      Lyon   Paris          429.0   2-Jan-14   \n",
       "2     198167    657605      Lyon   Paris          429.0   2-Jan-14   \n",
       "3     282817    946022      Lyon   Paris          429.0   2-Jan-14   \n",
       "4      29640     94886      Lyon   Paris          435.0   5-Jan-14   \n",
       "\n",
       "    departure_date  price  nb_offers  photo  ... min_price_depd  \\\n",
       "0  1/12/2014 17:30     28      526.0      0  ...             20   \n",
       "1   1/6/2014 14:40     30      526.0      0  ...             20   \n",
       "2   1/6/2014 15:10     31      526.0      1  ...             20   \n",
       "3   1/6/2014 15:30     25      526.0      1  ...             20   \n",
       "4   1/19/2014 9:00     25      526.0      1  ...             18   \n",
       "\n",
       "   mean_price_depd  sd_price_depd  seats_in_car  seat_sold  Driver_first_name  \\\n",
       "0        29.071247       2.567809             4          0           Francois   \n",
       "1        28.862133       3.189145             0          0            Corinne   \n",
       "2        28.862133       3.189145             0          0              Laura   \n",
       "3        28.862133       3.189145             3          3           Philippe   \n",
       "4        29.364803       2.784098             7          4            Antoine   \n",
       "\n",
       "   Satisfaction_Livel  nb_evaluation  driver_age  driver_gender  \n",
       "0           Excellent              0          25              0  \n",
       "1                Good             24          31              1  \n",
       "2           Excellent              1          31              1  \n",
       "3            VeryGood              3          31              0  \n",
       "4            VeryGood             10          26              0  \n",
       "\n",
       "[5 rows x 31 columns]"
      ]
     },
     "execution_count": 3,
     "metadata": {},
     "output_type": "execute_result"
    }
   ],
   "source": [
    "#Import BlaBlaCar.xlsx\n",
    "df = pd.read_excel('BlaBla-Car_Data.xlsx')\n",
    "df.head()"
   ]
  },
  {
   "cell_type": "code",
   "execution_count": 4,
   "metadata": {
    "colab": {
     "base_uri": "https://localhost:8080/"
    },
    "id": "rqZifAFohw4A",
    "outputId": "940355f1-9b2a-4ab1-e995-03fe5b05fd49"
   },
   "outputs": [
    {
     "name": "stdout",
     "output_type": "stream",
     "text": [
      "<class 'pandas.core.frame.DataFrame'>\n",
      "RangeIndex: 97625 entries, 0 to 97624\n",
      "Data columns (total 31 columns):\n",
      " #   Column              Non-Null Count  Dtype  \n",
      "---  ------              --------------  -----  \n",
      " 0   driver_id           97625 non-null  int64  \n",
      " 1   offer_id            97625 non-null  int64  \n",
      " 2   departure           97625 non-null  object \n",
      " 3   arrival             97625 non-null  object \n",
      " 4   trip_distance       97601 non-null  float64\n",
      " 5   offer_date          97625 non-null  object \n",
      " 6   departure_date      97625 non-null  object \n",
      " 7   price               97625 non-null  int64  \n",
      " 8   nb_offers           97603 non-null  float64\n",
      " 9   photo               97625 non-null  int64  \n",
      " 10  driver_status       97625 non-null  object \n",
      " 11  music               97625 non-null  int64  \n",
      " 12  talk                97625 non-null  int64  \n",
      " 13  pet                 97625 non-null  int64  \n",
      " 14  smoking             97625 non-null  int64  \n",
      " 15  manual_reservation  97625 non-null  int64  \n",
      " 16  round_trip          97625 non-null  int64  \n",
      " 17  car_rating          97625 non-null  int64  \n",
      " 18  detour_time         97625 non-null  int64  \n",
      " 19  page_view           97625 non-null  int64  \n",
      " 20  max_price_depd      97625 non-null  int64  \n",
      " 21  min_price_depd      97625 non-null  int64  \n",
      " 22  mean_price_depd     97625 non-null  float64\n",
      " 23  sd_price_depd       97613 non-null  float64\n",
      " 24  seats_in_car        97625 non-null  int64  \n",
      " 25  seat_sold           97625 non-null  int64  \n",
      " 26  Driver_first_name   97625 non-null  object \n",
      " 27  Satisfaction_Livel  97620 non-null  object \n",
      " 28  nb_evaluation       97625 non-null  int64  \n",
      " 29  driver_age          97625 non-null  int64  \n",
      " 30  driver_gender       97625 non-null  int64  \n",
      "dtypes: float64(4), int64(20), object(7)\n",
      "memory usage: 23.1+ MB\n"
     ]
    }
   ],
   "source": [
    "# Write a Python code to display a summary of the basic information about the Data Frame and its data. Please indicate any information you consider relevant to data analysis. (Data-frame Information, Data types, Shape, etc …)\n",
    "df.info()"
   ]
  },
  {
   "cell_type": "code",
   "execution_count": 5,
   "metadata": {
    "colab": {
     "base_uri": "https://localhost:8080/",
     "height": 350
    },
    "id": "q7ZzJC4Fhw4B",
    "outputId": "b170706a-c913-4a1e-817a-e99993b2664e"
   },
   "outputs": [
    {
     "data": {
      "text/html": [
       "<div>\n",
       "<style scoped>\n",
       "    .dataframe tbody tr th:only-of-type {\n",
       "        vertical-align: middle;\n",
       "    }\n",
       "\n",
       "    .dataframe tbody tr th {\n",
       "        vertical-align: top;\n",
       "    }\n",
       "\n",
       "    .dataframe thead th {\n",
       "        text-align: right;\n",
       "    }\n",
       "</style>\n",
       "<table border=\"1\" class=\"dataframe\">\n",
       "  <thead>\n",
       "    <tr style=\"text-align: right;\">\n",
       "      <th></th>\n",
       "      <th>driver_id</th>\n",
       "      <th>offer_id</th>\n",
       "      <th>trip_distance</th>\n",
       "      <th>price</th>\n",
       "      <th>nb_offers</th>\n",
       "      <th>photo</th>\n",
       "      <th>music</th>\n",
       "      <th>talk</th>\n",
       "      <th>pet</th>\n",
       "      <th>smoking</th>\n",
       "      <th>...</th>\n",
       "      <th>page_view</th>\n",
       "      <th>max_price_depd</th>\n",
       "      <th>min_price_depd</th>\n",
       "      <th>mean_price_depd</th>\n",
       "      <th>sd_price_depd</th>\n",
       "      <th>seats_in_car</th>\n",
       "      <th>seat_sold</th>\n",
       "      <th>nb_evaluation</th>\n",
       "      <th>driver_age</th>\n",
       "      <th>driver_gender</th>\n",
       "    </tr>\n",
       "  </thead>\n",
       "  <tbody>\n",
       "    <tr>\n",
       "      <th>count</th>\n",
       "      <td>97625.000000</td>\n",
       "      <td>9.762500e+04</td>\n",
       "      <td>97601.000000</td>\n",
       "      <td>97625.000000</td>\n",
       "      <td>97603.000000</td>\n",
       "      <td>97625.000000</td>\n",
       "      <td>97625.000000</td>\n",
       "      <td>97625.0</td>\n",
       "      <td>97625.000000</td>\n",
       "      <td>97625.000000</td>\n",
       "      <td>...</td>\n",
       "      <td>97625.000000</td>\n",
       "      <td>97625.000000</td>\n",
       "      <td>97625.000000</td>\n",
       "      <td>97625.000000</td>\n",
       "      <td>97613.000000</td>\n",
       "      <td>97625.000000</td>\n",
       "      <td>97625.000000</td>\n",
       "      <td>97625.000000</td>\n",
       "      <td>97625.000000</td>\n",
       "      <td>97625.000000</td>\n",
       "    </tr>\n",
       "    <tr>\n",
       "      <th>mean</th>\n",
       "      <td>183112.611268</td>\n",
       "      <td>6.122613e+05</td>\n",
       "      <td>467.667012</td>\n",
       "      <td>29.136020</td>\n",
       "      <td>767.564409</td>\n",
       "      <td>0.419001</td>\n",
       "      <td>0.571790</td>\n",
       "      <td>1.0</td>\n",
       "      <td>0.085163</td>\n",
       "      <td>0.058284</td>\n",
       "      <td>...</td>\n",
       "      <td>42.392205</td>\n",
       "      <td>46.891431</td>\n",
       "      <td>17.492353</td>\n",
       "      <td>29.680794</td>\n",
       "      <td>3.299338</td>\n",
       "      <td>2.300026</td>\n",
       "      <td>1.159980</td>\n",
       "      <td>12.207877</td>\n",
       "      <td>34.633147</td>\n",
       "      <td>0.249209</td>\n",
       "    </tr>\n",
       "    <tr>\n",
       "      <th>std</th>\n",
       "      <td>104032.508106</td>\n",
       "      <td>3.460801e+05</td>\n",
       "      <td>26.852776</td>\n",
       "      <td>3.538796</td>\n",
       "      <td>51.932390</td>\n",
       "      <td>0.493398</td>\n",
       "      <td>0.494822</td>\n",
       "      <td>0.0</td>\n",
       "      <td>0.279125</td>\n",
       "      <td>0.234281</td>\n",
       "      <td>...</td>\n",
       "      <td>60.043466</td>\n",
       "      <td>18.193730</td>\n",
       "      <td>4.897133</td>\n",
       "      <td>0.679380</td>\n",
       "      <td>0.967332</td>\n",
       "      <td>1.833990</td>\n",
       "      <td>1.539941</td>\n",
       "      <td>22.740628</td>\n",
       "      <td>11.692740</td>\n",
       "      <td>0.432557</td>\n",
       "    </tr>\n",
       "    <tr>\n",
       "      <th>min</th>\n",
       "      <td>10.000000</td>\n",
       "      <td>2.000000e+01</td>\n",
       "      <td>312.000000</td>\n",
       "      <td>1.000000</td>\n",
       "      <td>526.000000</td>\n",
       "      <td>0.000000</td>\n",
       "      <td>0.000000</td>\n",
       "      <td>1.0</td>\n",
       "      <td>0.000000</td>\n",
       "      <td>0.000000</td>\n",
       "      <td>...</td>\n",
       "      <td>0.000000</td>\n",
       "      <td>23.000000</td>\n",
       "      <td>-1.000000</td>\n",
       "      <td>21.666666</td>\n",
       "      <td>0.000000</td>\n",
       "      <td>0.000000</td>\n",
       "      <td>0.000000</td>\n",
       "      <td>0.000000</td>\n",
       "      <td>18.000000</td>\n",
       "      <td>0.000000</td>\n",
       "    </tr>\n",
       "    <tr>\n",
       "      <th>25%</th>\n",
       "      <td>91727.000000</td>\n",
       "      <td>3.207850e+05</td>\n",
       "      <td>462.000000</td>\n",
       "      <td>28.000000</td>\n",
       "      <td>761.000000</td>\n",
       "      <td>0.000000</td>\n",
       "      <td>0.000000</td>\n",
       "      <td>1.0</td>\n",
       "      <td>0.000000</td>\n",
       "      <td>0.000000</td>\n",
       "      <td>...</td>\n",
       "      <td>8.000000</td>\n",
       "      <td>40.000000</td>\n",
       "      <td>15.000000</td>\n",
       "      <td>29.267822</td>\n",
       "      <td>2.752414</td>\n",
       "      <td>0.000000</td>\n",
       "      <td>0.000000</td>\n",
       "      <td>0.000000</td>\n",
       "      <td>26.000000</td>\n",
       "      <td>0.000000</td>\n",
       "    </tr>\n",
       "    <tr>\n",
       "      <th>50%</th>\n",
       "      <td>187454.000000</td>\n",
       "      <td>6.151750e+05</td>\n",
       "      <td>462.000000</td>\n",
       "      <td>30.000000</td>\n",
       "      <td>785.000000</td>\n",
       "      <td>0.000000</td>\n",
       "      <td>1.000000</td>\n",
       "      <td>1.0</td>\n",
       "      <td>0.000000</td>\n",
       "      <td>0.000000</td>\n",
       "      <td>...</td>\n",
       "      <td>23.000000</td>\n",
       "      <td>42.000000</td>\n",
       "      <td>20.000000</td>\n",
       "      <td>29.720201</td>\n",
       "      <td>3.079294</td>\n",
       "      <td>3.000000</td>\n",
       "      <td>0.000000</td>\n",
       "      <td>4.000000</td>\n",
       "      <td>31.000000</td>\n",
       "      <td>0.000000</td>\n",
       "    </tr>\n",
       "    <tr>\n",
       "      <th>75%</th>\n",
       "      <td>277383.000000</td>\n",
       "      <td>9.169910e+05</td>\n",
       "      <td>469.000000</td>\n",
       "      <td>30.000000</td>\n",
       "      <td>798.000000</td>\n",
       "      <td>1.000000</td>\n",
       "      <td>1.000000</td>\n",
       "      <td>1.0</td>\n",
       "      <td>0.000000</td>\n",
       "      <td>0.000000</td>\n",
       "      <td>...</td>\n",
       "      <td>53.000000</td>\n",
       "      <td>46.000000</td>\n",
       "      <td>20.000000</td>\n",
       "      <td>30.103077</td>\n",
       "      <td>3.506759</td>\n",
       "      <td>4.000000</td>\n",
       "      <td>2.000000</td>\n",
       "      <td>13.000000</td>\n",
       "      <td>42.000000</td>\n",
       "      <td>0.000000</td>\n",
       "    </tr>\n",
       "    <tr>\n",
       "      <th>max</th>\n",
       "      <td>354871.000000</td>\n",
       "      <td>1.192932e+06</td>\n",
       "      <td>1700.000000</td>\n",
       "      <td>251.000000</td>\n",
       "      <td>834.000000</td>\n",
       "      <td>1.000000</td>\n",
       "      <td>1.000000</td>\n",
       "      <td>1.0</td>\n",
       "      <td>1.000000</td>\n",
       "      <td>1.000000</td>\n",
       "      <td>...</td>\n",
       "      <td>1199.000000</td>\n",
       "      <td>251.000000</td>\n",
       "      <td>38.000000</td>\n",
       "      <td>38.000000</td>\n",
       "      <td>9.647118</td>\n",
       "      <td>18.000000</td>\n",
       "      <td>15.000000</td>\n",
       "      <td>357.000000</td>\n",
       "      <td>85.000000</td>\n",
       "      <td>1.000000</td>\n",
       "    </tr>\n",
       "  </tbody>\n",
       "</table>\n",
       "<p>8 rows × 24 columns</p>\n",
       "</div>"
      ],
      "text/plain": [
       "           driver_id      offer_id  trip_distance         price     nb_offers  \\\n",
       "count   97625.000000  9.762500e+04   97601.000000  97625.000000  97603.000000   \n",
       "mean   183112.611268  6.122613e+05     467.667012     29.136020    767.564409   \n",
       "std    104032.508106  3.460801e+05      26.852776      3.538796     51.932390   \n",
       "min        10.000000  2.000000e+01     312.000000      1.000000    526.000000   \n",
       "25%     91727.000000  3.207850e+05     462.000000     28.000000    761.000000   \n",
       "50%    187454.000000  6.151750e+05     462.000000     30.000000    785.000000   \n",
       "75%    277383.000000  9.169910e+05     469.000000     30.000000    798.000000   \n",
       "max    354871.000000  1.192932e+06    1700.000000    251.000000    834.000000   \n",
       "\n",
       "              photo         music     talk           pet       smoking  ...  \\\n",
       "count  97625.000000  97625.000000  97625.0  97625.000000  97625.000000  ...   \n",
       "mean       0.419001      0.571790      1.0      0.085163      0.058284  ...   \n",
       "std        0.493398      0.494822      0.0      0.279125      0.234281  ...   \n",
       "min        0.000000      0.000000      1.0      0.000000      0.000000  ...   \n",
       "25%        0.000000      0.000000      1.0      0.000000      0.000000  ...   \n",
       "50%        0.000000      1.000000      1.0      0.000000      0.000000  ...   \n",
       "75%        1.000000      1.000000      1.0      0.000000      0.000000  ...   \n",
       "max        1.000000      1.000000      1.0      1.000000      1.000000  ...   \n",
       "\n",
       "          page_view  max_price_depd  min_price_depd  mean_price_depd  \\\n",
       "count  97625.000000    97625.000000    97625.000000     97625.000000   \n",
       "mean      42.392205       46.891431       17.492353        29.680794   \n",
       "std       60.043466       18.193730        4.897133         0.679380   \n",
       "min        0.000000       23.000000       -1.000000        21.666666   \n",
       "25%        8.000000       40.000000       15.000000        29.267822   \n",
       "50%       23.000000       42.000000       20.000000        29.720201   \n",
       "75%       53.000000       46.000000       20.000000        30.103077   \n",
       "max     1199.000000      251.000000       38.000000        38.000000   \n",
       "\n",
       "       sd_price_depd  seats_in_car     seat_sold  nb_evaluation    driver_age  \\\n",
       "count   97613.000000  97625.000000  97625.000000   97625.000000  97625.000000   \n",
       "mean        3.299338      2.300026      1.159980      12.207877     34.633147   \n",
       "std         0.967332      1.833990      1.539941      22.740628     11.692740   \n",
       "min         0.000000      0.000000      0.000000       0.000000     18.000000   \n",
       "25%         2.752414      0.000000      0.000000       0.000000     26.000000   \n",
       "50%         3.079294      3.000000      0.000000       4.000000     31.000000   \n",
       "75%         3.506759      4.000000      2.000000      13.000000     42.000000   \n",
       "max         9.647118     18.000000     15.000000     357.000000     85.000000   \n",
       "\n",
       "       driver_gender  \n",
       "count   97625.000000  \n",
       "mean        0.249209  \n",
       "std         0.432557  \n",
       "min         0.000000  \n",
       "25%         0.000000  \n",
       "50%         0.000000  \n",
       "75%         0.000000  \n",
       "max         1.000000  \n",
       "\n",
       "[8 rows x 24 columns]"
      ]
     },
     "execution_count": 5,
     "metadata": {},
     "output_type": "execute_result"
    }
   ],
   "source": [
    "df.describe()"
   ]
  },
  {
   "cell_type": "code",
   "execution_count": 6,
   "metadata": {
    "colab": {
     "base_uri": "https://localhost:8080/"
    },
    "id": "A88Lnpuuhw4C",
    "outputId": "713609ca-52c5-470a-b91d-f14a0d55a4d6"
   },
   "outputs": [
    {
     "data": {
      "text/plain": [
       "driver_id               int64\n",
       "offer_id                int64\n",
       "departure              object\n",
       "arrival                object\n",
       "trip_distance         float64\n",
       "offer_date             object\n",
       "departure_date         object\n",
       "price                   int64\n",
       "nb_offers             float64\n",
       "photo                   int64\n",
       "driver_status          object\n",
       "music                   int64\n",
       "talk                    int64\n",
       "pet                     int64\n",
       "smoking                 int64\n",
       "manual_reservation      int64\n",
       "round_trip              int64\n",
       "car_rating              int64\n",
       "detour_time             int64\n",
       "page_view               int64\n",
       "max_price_depd          int64\n",
       "min_price_depd          int64\n",
       "mean_price_depd       float64\n",
       "sd_price_depd         float64\n",
       "seats_in_car            int64\n",
       "seat_sold               int64\n",
       "Driver_first_name      object\n",
       "Satisfaction_Livel     object\n",
       "nb_evaluation           int64\n",
       "driver_age              int64\n",
       "driver_gender           int64\n",
       "dtype: object"
      ]
     },
     "execution_count": 6,
     "metadata": {},
     "output_type": "execute_result"
    }
   ],
   "source": [
    "df.dtypes"
   ]
  },
  {
   "cell_type": "code",
   "execution_count": 7,
   "metadata": {
    "colab": {
     "base_uri": "https://localhost:8080/"
    },
    "id": "easpTHYkhw4C",
    "outputId": "e62df8c6-6e05-4c4c-ea34-22f3229178d6"
   },
   "outputs": [
    {
     "data": {
      "text/plain": [
       "(97625, 31)"
      ]
     },
     "execution_count": 7,
     "metadata": {},
     "output_type": "execute_result"
    }
   ],
   "source": [
    "df.shape"
   ]
  },
  {
   "cell_type": "markdown",
   "metadata": {
    "id": "O5S1f6gYhw4D"
   },
   "source": [
    "### Clean data-frame"
   ]
  },
  {
   "cell_type": "code",
   "execution_count": 8,
   "metadata": {
    "colab": {
     "base_uri": "https://localhost:8080/"
    },
    "id": "NI4-oIa4hw4E",
    "outputId": "99c822d7-7bf9-44a8-ab58-4d4cd251181d",
    "scrolled": true
   },
   "outputs": [
    {
     "data": {
      "text/plain": [
       "driver_id              0\n",
       "offer_id               0\n",
       "departure              0\n",
       "arrival                0\n",
       "trip_distance         24\n",
       "offer_date             0\n",
       "departure_date         0\n",
       "price                  0\n",
       "nb_offers             22\n",
       "photo                  0\n",
       "driver_status          0\n",
       "music                  0\n",
       "talk                   0\n",
       "pet                    0\n",
       "smoking                0\n",
       "manual_reservation     0\n",
       "round_trip             0\n",
       "car_rating             0\n",
       "detour_time            0\n",
       "page_view              0\n",
       "max_price_depd         0\n",
       "min_price_depd         0\n",
       "mean_price_depd        0\n",
       "sd_price_depd         12\n",
       "seats_in_car           0\n",
       "seat_sold              0\n",
       "Driver_first_name      0\n",
       "Satisfaction_Livel     5\n",
       "nb_evaluation          0\n",
       "driver_age             0\n",
       "driver_gender          0\n",
       "dtype: int64"
      ]
     },
     "execution_count": 8,
     "metadata": {},
     "output_type": "execute_result"
    }
   ],
   "source": [
    "df.isnull().sum()"
   ]
  },
  {
   "cell_type": "code",
   "execution_count": 9,
   "metadata": {
    "colab": {
     "base_uri": "https://localhost:8080/"
    },
    "id": "1wJ7RxxAhw4E",
    "outputId": "c70130e8-2f57-47ef-9902-1374a6b9fbf6"
   },
   "outputs": [
    {
     "data": {
      "text/plain": [
       "Index(['departure', 'arrival', 'offer_date', 'departure_date', 'driver_status',\n",
       "       'Driver_first_name', 'Satisfaction_Livel'],\n",
       "      dtype='object')"
      ]
     },
     "execution_count": 9,
     "metadata": {},
     "output_type": "execute_result"
    }
   ],
   "source": [
    "df.select_dtypes(include = \"object\").columns "
   ]
  },
  {
   "cell_type": "code",
   "execution_count": 10,
   "metadata": {
    "id": "KIRJJFenhw4F"
   },
   "outputs": [],
   "source": [
    "# Categorical variables: Replace by the Mode: Calculates the column mode and uses the mode value as the replacement value for each missing value in the column.\n",
    "for col in df.select_dtypes(include = \"object\").columns :\n",
    "    df[col] = df[col].fillna(df[col].mode().iloc[0])"
   ]
  },
  {
   "cell_type": "code",
   "execution_count": 11,
   "metadata": {
    "colab": {
     "base_uri": "https://localhost:8080/"
    },
    "id": "TYODmaUYhw4F",
    "outputId": "f3470af4-3efc-476a-c699-d6f4a83b5d06"
   },
   "outputs": [
    {
     "data": {
      "text/plain": [
       "driver_id              0\n",
       "offer_id               0\n",
       "departure              0\n",
       "arrival                0\n",
       "trip_distance         24\n",
       "offer_date             0\n",
       "departure_date         0\n",
       "price                  0\n",
       "nb_offers             22\n",
       "photo                  0\n",
       "driver_status          0\n",
       "music                  0\n",
       "talk                   0\n",
       "pet                    0\n",
       "smoking                0\n",
       "manual_reservation     0\n",
       "round_trip             0\n",
       "car_rating             0\n",
       "detour_time            0\n",
       "page_view              0\n",
       "max_price_depd         0\n",
       "min_price_depd         0\n",
       "mean_price_depd        0\n",
       "sd_price_depd         12\n",
       "seats_in_car           0\n",
       "seat_sold              0\n",
       "Driver_first_name      0\n",
       "Satisfaction_Livel     0\n",
       "nb_evaluation          0\n",
       "driver_age             0\n",
       "driver_gender          0\n",
       "dtype: int64"
      ]
     },
     "execution_count": 11,
     "metadata": {},
     "output_type": "execute_result"
    }
   ],
   "source": [
    "df.isnull().sum()"
   ]
  },
  {
   "cell_type": "code",
   "execution_count": null,
   "metadata": {
    "colab": {
     "base_uri": "https://localhost:8080/",
     "height": 726
    },
    "id": "vdpvQjHzhw4F",
    "outputId": "4437a8a3-679d-43dd-e573-bc82b330fbd7"
   },
   "outputs": [],
   "source": []
  },
  {
   "cell_type": "code",
   "execution_count": null,
   "metadata": {
    "colab": {
     "base_uri": "https://localhost:8080/"
    },
    "id": "omo9UMMZhw4G",
    "outputId": "a50b76d1-044d-4785-c84b-57b52a0bc03f"
   },
   "outputs": [],
   "source": []
  },
  {
   "cell_type": "code",
   "execution_count": 12,
   "metadata": {
    "colab": {
     "base_uri": "https://localhost:8080/"
    },
    "id": "z0SiCtUBhw4G",
    "outputId": "5019aa81-bfc3-4f6e-e1f5-16748fdc174e"
   },
   "outputs": [],
   "source": [
    "# \tQuantitative variables: Replace the missing data by the Mean by “driver_status”: Calculate the Mean by “driver_status “ and use it as the replacement value for each missing value in the column.\n",
    "for col in df.select_dtypes(include=[\"float\", \"int\"]).columns :\n",
    "    for s in df[\"driver_status\"].unique():\n",
    "        dfs = df.loc[(df['driver_status'] ==s)]\n",
    "        df.loc[(df['driver_status'] == s) & (df[col].isnull()), col]= dfs[col].mean()"
   ]
  },
  {
   "cell_type": "code",
   "execution_count": 13,
   "metadata": {
    "colab": {
     "base_uri": "https://localhost:8080/"
    },
    "id": "3PwA24Puhw4G",
    "outputId": "f8853c5a-7777-4c9d-8c40-cf0fd37c8a09"
   },
   "outputs": [
    {
     "data": {
      "text/plain": [
       "driver_id             0\n",
       "offer_id              0\n",
       "departure             0\n",
       "arrival               0\n",
       "trip_distance         0\n",
       "offer_date            0\n",
       "departure_date        0\n",
       "price                 0\n",
       "nb_offers             0\n",
       "photo                 0\n",
       "driver_status         0\n",
       "music                 0\n",
       "talk                  0\n",
       "pet                   0\n",
       "smoking               0\n",
       "manual_reservation    0\n",
       "round_trip            0\n",
       "car_rating            0\n",
       "detour_time           0\n",
       "page_view             0\n",
       "max_price_depd        0\n",
       "min_price_depd        0\n",
       "mean_price_depd       0\n",
       "sd_price_depd         0\n",
       "seats_in_car          0\n",
       "seat_sold             0\n",
       "Driver_first_name     0\n",
       "Satisfaction_Livel    0\n",
       "nb_evaluation         0\n",
       "driver_age            0\n",
       "driver_gender         0\n",
       "dtype: int64"
      ]
     },
     "execution_count": 13,
     "metadata": {},
     "output_type": "execute_result"
    }
   ],
   "source": [
    "df.isnull().sum()"
   ]
  },
  {
   "cell_type": "code",
   "execution_count": null,
   "metadata": {
    "colab": {
     "base_uri": "https://localhost:8080/",
     "height": 726
    },
    "id": "sdgx6Q40hw4H",
    "outputId": "dde41237-1026-4a28-bf55-a467243d4186"
   },
   "outputs": [],
   "source": []
  },
  {
   "cell_type": "markdown",
   "metadata": {
    "id": "bvTLLJnwhw4H"
   },
   "source": [
    "## b) Data Manipulation"
   ]
  },
  {
   "cell_type": "code",
   "execution_count": 14,
   "metadata": {
    "colab": {
     "base_uri": "https://localhost:8080/",
     "height": 81
    },
    "id": "j7dnexjMhw4H",
    "outputId": "4e40e45f-dec7-4333-f9f0-84b2e6c94b41"
   },
   "outputs": [
    {
     "data": {
      "text/html": [
       "<div>\n",
       "<style scoped>\n",
       "    .dataframe tbody tr th:only-of-type {\n",
       "        vertical-align: middle;\n",
       "    }\n",
       "\n",
       "    .dataframe tbody tr th {\n",
       "        vertical-align: top;\n",
       "    }\n",
       "\n",
       "    .dataframe thead th {\n",
       "        text-align: right;\n",
       "    }\n",
       "</style>\n",
       "<table border=\"1\" class=\"dataframe\">\n",
       "  <thead>\n",
       "    <tr style=\"text-align: right;\">\n",
       "      <th></th>\n",
       "      <th>Driver_first_name</th>\n",
       "      <th>trip_distance</th>\n",
       "    </tr>\n",
       "  </thead>\n",
       "  <tbody>\n",
       "    <tr>\n",
       "      <th>94822</th>\n",
       "      <td>Claude</td>\n",
       "      <td>1700.0</td>\n",
       "    </tr>\n",
       "  </tbody>\n",
       "</table>\n",
       "</div>"
      ],
      "text/plain": [
       "      Driver_first_name  trip_distance\n",
       "94822            Claude         1700.0"
      ]
     },
     "execution_count": 14,
     "metadata": {},
     "output_type": "execute_result"
    }
   ],
   "source": [
    "# Find & Print the Maximum   \" trip_distance\"   Driver name\n",
    "\n",
    "df_max_dist = df[df[\"trip_distance\"] == df[\"trip_distance\"].max()][[\"Driver_first_name\", \"trip_distance\"]]\n",
    "df_max_dist"
   ]
  },
  {
   "cell_type": "code",
   "execution_count": 15,
   "metadata": {
    "colab": {
     "base_uri": "https://localhost:8080/"
    },
    "id": "ouFusfywhw4H",
    "outputId": "655e6803-8628-4d06-d42d-85284de42bbb"
   },
   "outputs": [
    {
     "name": "stdout",
     "output_type": "stream",
     "text": [
      "For driver_status 'S2', the Driver name with max detour time is: Julien (detour_time: 30.0)\n",
      "For driver_status 'S5', the Driver name with max detour time is: Jean-Baptiste (detour_time: 30.0)\n",
      "For driver_status 'S3', the Driver name with max detour time is: Armand (detour_time: 30.0)\n",
      "For driver_status 'S4', the Driver name with max detour time is: Mustapha (detour_time: 30.0)\n",
      "For driver_status 'S1', the Driver name with max detour time is: Marcel (detour_time: 30.0)\n"
     ]
    }
   ],
   "source": [
    "# Using the loop(for ...  in ... ) to : Select and print by ‘‘driver_status’’,\n",
    "# the Driver_name with the max “\"detour_time\"\n",
    "for driver_status in df['driver_status'].unique():\n",
    "    subset_df = df[df['driver_status'] == driver_status]\n",
    "    max_detour_row = subset_df.loc[subset_df['detour_time'].idxmax()]\n",
    "    print(f\"For driver_status '{driver_status}', the Driver name with max detour time is: {max_detour_row['Driver_first_name']} (detour_time: {max_detour_row['detour_time']})\")"
   ]
  },
  {
   "cell_type": "code",
   "execution_count": null,
   "metadata": {},
   "outputs": [],
   "source": []
  },
  {
   "cell_type": "code",
   "execution_count": 16,
   "metadata": {},
   "outputs": [
    {
     "name": "stdout",
     "output_type": "stream",
     "text": [
      "driver_status:S2\n",
      "driver_name:Romain\n",
      "detour_time:315.0\n",
      "***********************************************\n",
      "driver_status:S5\n",
      "driver_name:Philippe\n",
      "detour_time:360.0\n",
      "***********************************************\n",
      "driver_status:S3\n",
      "driver_name:Gilles\n",
      "detour_time:330.0\n",
      "***********************************************\n",
      "driver_status:S4\n",
      "driver_name:Fabien\n",
      "detour_time:615.0\n",
      "***********************************************\n",
      "driver_status:S1\n",
      "driver_name:Chris\n",
      "detour_time:330.0\n",
      "***********************************************\n"
     ]
    }
   ],
   "source": [
    "# Using the loop(for ...  in ... ) to : Select and print by ‘‘driver_status’’, the Driver_name with the max “\"detour_time\"\n",
    "\n",
    "driver_status_list = df['driver_status'].unique()\n",
    "for status in driver_status_list:\n",
    "    tmpdf = df.loc[df['driver_status']==status,]\n",
    "    agg_functions = {'Driver_first_name': 'first', 'driver_status': 'first','detour_time':'sum'}\n",
    "    tmpdf_sum = tmpdf.groupby('driver_id')[['Driver_first_name','driver_status','detour_time']].agg(agg_functions)\n",
    "    tmpdf_sum_sorted = tmpdf_sum.sort_values('detour_time',ascending=False)\n",
    "    print(f'driver_status:{tmpdf_sum_sorted.iloc[0,1]}')\n",
    "    print(f'driver_name:{tmpdf_sum_sorted.iloc[0,0]}')\n",
    "    print(f'detour_time:{tmpdf_sum_sorted.iloc[0,2]}')\n",
    "    print(\"***********************************************\")"
   ]
  },
  {
   "cell_type": "code",
   "execution_count": 17,
   "metadata": {},
   "outputs": [
    {
     "data": {
      "text/plain": [
       "Index(['driver_id', 'offer_id', 'departure', 'arrival', 'trip_distance',\n",
       "       'offer_date', 'departure_date', 'price', 'nb_offers', 'photo',\n",
       "       'driver_status', 'music', 'talk', 'pet', 'smoking',\n",
       "       'manual_reservation', 'round_trip', 'car_rating', 'detour_time',\n",
       "       'page_view', 'max_price_depd', 'min_price_depd', 'mean_price_depd',\n",
       "       'sd_price_depd', 'seats_in_car', 'seat_sold', 'Driver_first_name',\n",
       "       'Satisfaction_Livel', 'nb_evaluation', 'driver_age', 'driver_gender'],\n",
       "      dtype='object')"
      ]
     },
     "execution_count": 17,
     "metadata": {},
     "output_type": "execute_result"
    }
   ],
   "source": [
    "df.columns"
   ]
  },
  {
   "cell_type": "code",
   "execution_count": 18,
   "metadata": {},
   "outputs": [
    {
     "name": "stdout",
     "output_type": "stream",
     "text": [
      "S2\n",
      "=======================\n",
      "max detour  30.0\n",
      "       driver_id Driver_first_name\n",
      "0       123956.0          Francois\n",
      "2       198167.0             Laura\n",
      "6       293442.0              Remi\n",
      "7       328307.0           Thibaud\n",
      "9        17478.0            Amelie\n",
      "...          ...               ...\n",
      "97601   244021.0            Maxime\n",
      "97603    17179.0            Amelie\n",
      "97607   348922.0           Yannick\n",
      "97612   320053.0          Stephane\n",
      "97620   315770.0           Solange\n",
      "\n",
      "[17408 rows x 2 columns]\n",
      "*************************************\n",
      "S5\n",
      "=======================\n",
      "max detour  30.0\n",
      "       driver_id Driver_first_name\n",
      "1        81617.0           Corinne\n",
      "15       24939.0              Anne\n",
      "17       87615.0             David\n",
      "20      141096.0         Guillaume\n",
      "28      188223.0            Julien\n",
      "...          ...               ...\n",
      "97589   329241.0          Thibault\n",
      "97593   152136.0         Hyacinthe\n",
      "97594   176765.0           Jessica\n",
      "97611   282245.0          Philippe\n",
      "97618   248620.0             Mhand\n",
      "\n",
      "[17160 rows x 2 columns]\n",
      "*************************************\n",
      "S3\n",
      "=======================\n",
      "max detour  30.0\n",
      "       driver_id Driver_first_name\n",
      "3       282817.0          Philippe\n",
      "26      112550.0            Fabien\n",
      "27      112550.0            Fabien\n",
      "34      346231.0            Xavier\n",
      "42         548.0          Abdelali\n",
      "...          ...               ...\n",
      "97595   209925.0            Lorene\n",
      "97596    79272.0             Colin\n",
      "97600   187761.0            Julien\n",
      "97619   250984.0           Mickael\n",
      "97622   175981.0            Jerome\n",
      "\n",
      "[14801 rows x 2 columns]\n",
      "*************************************\n",
      "S4\n",
      "=======================\n",
      "max detour  30.0\n",
      "       driver_id Driver_first_name\n",
      "4        29640.0           Antoine\n",
      "5        98663.0              Elie\n",
      "16       31098.0            Ariane\n",
      "18      111917.0          Ezzedine\n",
      "32      222023.0             Manon\n",
      "...          ...               ...\n",
      "97614    57962.0          Caroline\n",
      "97617   178483.0            Joanna\n",
      "97621   324044.0           Sylvain\n",
      "97623   123163.0            Franck\n",
      "97624   331016.0            Thomas\n",
      "\n",
      "[20214 rows x 2 columns]\n",
      "*************************************\n",
      "S1\n",
      "=======================\n",
      "max detour  30.0\n",
      "       driver_id Driver_first_name\n",
      "8       341853.0           Vincent\n",
      "10      187757.0            Julien\n",
      "11      312425.0          Severine\n",
      "12      259106.0                 N\n",
      "31      147250.0            Helene\n",
      "...          ...               ...\n",
      "97604   188517.0            Julien\n",
      "97609   170931.0       Jean-Pierre\n",
      "97613   274937.0            Pascal\n",
      "97615    45947.0            Benoit\n",
      "97616   110596.0           Eugenie\n",
      "\n",
      "[28042 rows x 2 columns]\n",
      "*************************************\n"
     ]
    }
   ],
   "source": [
    "for s in df.driver_status.unique().tolist():\n",
    "    print(s)\n",
    "    print(\"=======================\")\n",
    "    dfs = df[df['driver_status'] == s]\n",
    "    max_D = dfs['detour_time'].max()\n",
    "    print(\"max detour \", max_D)\n",
    "    print(dfs[['driver_id', 'Driver_first_name']])\n",
    "    print(\"*************************************\")"
   ]
  },
  {
   "cell_type": "code",
   "execution_count": 19,
   "metadata": {},
   "outputs": [
    {
     "data": {
      "text/plain": [
       "Index(['driver_id', 'offer_id', 'departure', 'arrival', 'trip_distance',\n",
       "       'offer_date', 'departure_date', 'price', 'nb_offers', 'photo',\n",
       "       'driver_status', 'music', 'talk', 'pet', 'smoking',\n",
       "       'manual_reservation', 'round_trip', 'car_rating', 'detour_time',\n",
       "       'page_view', 'max_price_depd', 'min_price_depd', 'mean_price_depd',\n",
       "       'sd_price_depd', 'seats_in_car', 'seat_sold', 'Driver_first_name',\n",
       "       'Satisfaction_Livel', 'nb_evaluation', 'driver_age', 'driver_gender'],\n",
       "      dtype='object')"
      ]
     },
     "execution_count": 19,
     "metadata": {},
     "output_type": "execute_result"
    }
   ],
   "source": [
    "df.columns "
   ]
  },
  {
   "cell_type": "code",
   "execution_count": null,
   "metadata": {},
   "outputs": [],
   "source": []
  },
  {
   "cell_type": "code",
   "execution_count": 20,
   "metadata": {
    "colab": {
     "base_uri": "https://localhost:8080/"
    },
    "id": "4hMO_-WWhw4I",
    "outputId": "04835619-c1e8-4991-cd7f-c67ee3a4116e"
   },
   "outputs": [
    {
     "name": "stdout",
     "output_type": "stream",
     "text": [
      "Selected rows in the specified range (242870 to 282460):\n",
      "=======================================================\n"
     ]
    },
    {
     "data": {
      "text/html": [
       "<div>\n",
       "<style scoped>\n",
       "    .dataframe tbody tr th:only-of-type {\n",
       "        vertical-align: middle;\n",
       "    }\n",
       "\n",
       "    .dataframe tbody tr th {\n",
       "        vertical-align: top;\n",
       "    }\n",
       "\n",
       "    .dataframe thead th {\n",
       "        text-align: right;\n",
       "    }\n",
       "</style>\n",
       "<table border=\"1\" class=\"dataframe\">\n",
       "  <thead>\n",
       "    <tr style=\"text-align: right;\">\n",
       "      <th></th>\n",
       "      <th>driver_id</th>\n",
       "      <th>Driver_first_name</th>\n",
       "      <th>trip_distance</th>\n",
       "      <th>driver_age</th>\n",
       "      <th>price</th>\n",
       "    </tr>\n",
       "  </thead>\n",
       "  <tbody>\n",
       "    <tr>\n",
       "      <th>12</th>\n",
       "      <td>259106.0</td>\n",
       "      <td>N</td>\n",
       "      <td>449.0</td>\n",
       "      <td>27.0</td>\n",
       "      <td>26.0</td>\n",
       "    </tr>\n",
       "    <tr>\n",
       "      <th>13</th>\n",
       "      <td>275904.0</td>\n",
       "      <td>Patouani</td>\n",
       "      <td>449.0</td>\n",
       "      <td>27.0</td>\n",
       "      <td>24.0</td>\n",
       "    </tr>\n",
       "    <tr>\n",
       "      <th>22</th>\n",
       "      <td>253409.0</td>\n",
       "      <td>Mohamed</td>\n",
       "      <td>450.0</td>\n",
       "      <td>31.0</td>\n",
       "      <td>25.0</td>\n",
       "    </tr>\n",
       "    <tr>\n",
       "      <th>23</th>\n",
       "      <td>253409.0</td>\n",
       "      <td>Mohamed</td>\n",
       "      <td>450.0</td>\n",
       "      <td>31.0</td>\n",
       "      <td>25.0</td>\n",
       "    </tr>\n",
       "    <tr>\n",
       "      <th>29</th>\n",
       "      <td>278458.0</td>\n",
       "      <td>Paul</td>\n",
       "      <td>457.0</td>\n",
       "      <td>23.0</td>\n",
       "      <td>28.0</td>\n",
       "    </tr>\n",
       "    <tr>\n",
       "      <th>...</th>\n",
       "      <td>...</td>\n",
       "      <td>...</td>\n",
       "      <td>...</td>\n",
       "      <td>...</td>\n",
       "      <td>...</td>\n",
       "    </tr>\n",
       "    <tr>\n",
       "      <th>97605</th>\n",
       "      <td>250081.0</td>\n",
       "      <td>Michel</td>\n",
       "      <td>483.0</td>\n",
       "      <td>23.0</td>\n",
       "      <td>28.0</td>\n",
       "    </tr>\n",
       "    <tr>\n",
       "      <th>97611</th>\n",
       "      <td>282245.0</td>\n",
       "      <td>Philippe</td>\n",
       "      <td>486.0</td>\n",
       "      <td>26.0</td>\n",
       "      <td>30.0</td>\n",
       "    </tr>\n",
       "    <tr>\n",
       "      <th>97613</th>\n",
       "      <td>274937.0</td>\n",
       "      <td>Pascal</td>\n",
       "      <td>491.0</td>\n",
       "      <td>48.0</td>\n",
       "      <td>29.0</td>\n",
       "    </tr>\n",
       "    <tr>\n",
       "      <th>97618</th>\n",
       "      <td>248620.0</td>\n",
       "      <td>Mhand</td>\n",
       "      <td>506.0</td>\n",
       "      <td>49.0</td>\n",
       "      <td>29.0</td>\n",
       "    </tr>\n",
       "    <tr>\n",
       "      <th>97619</th>\n",
       "      <td>250984.0</td>\n",
       "      <td>Mickael</td>\n",
       "      <td>506.0</td>\n",
       "      <td>49.0</td>\n",
       "      <td>30.0</td>\n",
       "    </tr>\n",
       "  </tbody>\n",
       "</table>\n",
       "<p>13239 rows × 5 columns</p>\n",
       "</div>"
      ],
      "text/plain": [
       "       driver_id Driver_first_name  trip_distance  driver_age  price\n",
       "12      259106.0                 N          449.0        27.0   26.0\n",
       "13      275904.0          Patouani          449.0        27.0   24.0\n",
       "22      253409.0           Mohamed          450.0        31.0   25.0\n",
       "23      253409.0           Mohamed          450.0        31.0   25.0\n",
       "29      278458.0              Paul          457.0        23.0   28.0\n",
       "...          ...               ...            ...         ...    ...\n",
       "97605   250081.0            Michel          483.0        23.0   28.0\n",
       "97611   282245.0          Philippe          486.0        26.0   30.0\n",
       "97613   274937.0            Pascal          491.0        48.0   29.0\n",
       "97618   248620.0             Mhand          506.0        49.0   29.0\n",
       "97619   250984.0           Mickael          506.0        49.0   30.0\n",
       "\n",
       "[13239 rows x 5 columns]"
      ]
     },
     "execution_count": 20,
     "metadata": {},
     "output_type": "execute_result"
    }
   ],
   "source": [
    "# Using your function, print the return if the “driver_id” = (from 282460 to 242870)\n",
    "\n",
    "range_start = 242870\n",
    "range_end = 282460\n",
    "\n",
    "# Use loc to select rows within the specified range\n",
    "selected_rows = df.loc[(df['driver_id'] >= range_start) & (df['driver_id'] <= range_end)]\n",
    "selected_columns = ['driver_id', 'Driver_first_name', 'trip_distance', 'driver_age', 'price']\n",
    "\n",
    "\n",
    "# Display the selected rows\n",
    "print(f\"Selected rows in the specified range ({range_start} to {range_end}):\")\n",
    "print('=======================================================')\n",
    "selected_rows[selected_columns]"
   ]
  },
  {
   "cell_type": "code",
   "execution_count": 20,
   "metadata": {},
   "outputs": [],
   "source": [
    "# Using your function, print the return if the “driver_id” = (from 282460 to 242870)\n",
    "\n",
    "def search_by_driver_id(driver_id_list:list) -> list:\n",
    "    \n",
    "    driver_first_name_info = []\n",
    "    for driver_id in range(driver_id_list[0],driver_id_list[1]+1): \n",
    "        df_tmp = df[df['driver_id']==driver_id]\n",
    "        if df_tmp.empty:\n",
    "            continue\n",
    "        driver_first_name = df_tmp['Driver_first_name'].iloc[0]\n",
    "        driver_age = df_tmp['driver_age'].iloc[0]\n",
    "        avg_trip_distance = df_tmp['trip_distance'].mean()\n",
    "        avg_price = df_tmp['price'].mean()\n",
    "        driver_first_name_info.append([driver_id,driver_first_name,driver_age,avg_trip_distance,avg_price])\n",
    "    return driver_first_name_info"
   ]
  },
  {
   "cell_type": "code",
   "execution_count": 21,
   "metadata": {},
   "outputs": [
    {
     "data": {
      "text/html": [
       "<div>\n",
       "<style scoped>\n",
       "    .dataframe tbody tr th:only-of-type {\n",
       "        vertical-align: middle;\n",
       "    }\n",
       "\n",
       "    .dataframe tbody tr th {\n",
       "        vertical-align: top;\n",
       "    }\n",
       "\n",
       "    .dataframe thead th {\n",
       "        text-align: right;\n",
       "    }\n",
       "</style>\n",
       "<table border=\"1\" class=\"dataframe\">\n",
       "  <thead>\n",
       "    <tr style=\"text-align: right;\">\n",
       "      <th></th>\n",
       "      <th>driver_id</th>\n",
       "      <th>driver_first_name</th>\n",
       "      <th>driver_age</th>\n",
       "      <th>avg_trip_distance</th>\n",
       "      <th>avg_price</th>\n",
       "    </tr>\n",
       "  </thead>\n",
       "  <tbody>\n",
       "    <tr>\n",
       "      <th>0</th>\n",
       "      <td>242878</td>\n",
       "      <td>Maurice</td>\n",
       "      <td>29.0</td>\n",
       "      <td>487.0</td>\n",
       "      <td>21.0</td>\n",
       "    </tr>\n",
       "    <tr>\n",
       "      <th>1</th>\n",
       "      <td>242879</td>\n",
       "      <td>Maurice</td>\n",
       "      <td>32.0</td>\n",
       "      <td>465.0</td>\n",
       "      <td>21.0</td>\n",
       "    </tr>\n",
       "    <tr>\n",
       "      <th>2</th>\n",
       "      <td>242880</td>\n",
       "      <td>Maurice</td>\n",
       "      <td>33.0</td>\n",
       "      <td>462.0</td>\n",
       "      <td>21.0</td>\n",
       "    </tr>\n",
       "    <tr>\n",
       "      <th>3</th>\n",
       "      <td>242882</td>\n",
       "      <td>Maurice</td>\n",
       "      <td>48.0</td>\n",
       "      <td>462.0</td>\n",
       "      <td>21.0</td>\n",
       "    </tr>\n",
       "    <tr>\n",
       "      <th>4</th>\n",
       "      <td>242884</td>\n",
       "      <td>Maurice</td>\n",
       "      <td>59.0</td>\n",
       "      <td>434.0</td>\n",
       "      <td>23.5</td>\n",
       "    </tr>\n",
       "    <tr>\n",
       "      <th>...</th>\n",
       "      <td>...</td>\n",
       "      <td>...</td>\n",
       "      <td>...</td>\n",
       "      <td>...</td>\n",
       "      <td>...</td>\n",
       "    </tr>\n",
       "    <tr>\n",
       "      <th>6874</th>\n",
       "      <td>282451</td>\n",
       "      <td>Philippe</td>\n",
       "      <td>30.0</td>\n",
       "      <td>462.0</td>\n",
       "      <td>35.0</td>\n",
       "    </tr>\n",
       "    <tr>\n",
       "      <th>6875</th>\n",
       "      <td>282453</td>\n",
       "      <td>Philippe</td>\n",
       "      <td>32.0</td>\n",
       "      <td>477.5</td>\n",
       "      <td>31.0</td>\n",
       "    </tr>\n",
       "    <tr>\n",
       "      <th>6876</th>\n",
       "      <td>282454</td>\n",
       "      <td>Philippe</td>\n",
       "      <td>33.0</td>\n",
       "      <td>467.0</td>\n",
       "      <td>30.5</td>\n",
       "    </tr>\n",
       "    <tr>\n",
       "      <th>6877</th>\n",
       "      <td>282459</td>\n",
       "      <td>Philippe</td>\n",
       "      <td>38.0</td>\n",
       "      <td>464.0</td>\n",
       "      <td>30.0</td>\n",
       "    </tr>\n",
       "    <tr>\n",
       "      <th>6878</th>\n",
       "      <td>282460</td>\n",
       "      <td>Philippe</td>\n",
       "      <td>38.0</td>\n",
       "      <td>464.0</td>\n",
       "      <td>30.0</td>\n",
       "    </tr>\n",
       "  </tbody>\n",
       "</table>\n",
       "<p>6879 rows × 5 columns</p>\n",
       "</div>"
      ],
      "text/plain": [
       "      driver_id driver_first_name  driver_age  avg_trip_distance  avg_price\n",
       "0        242878           Maurice        29.0              487.0       21.0\n",
       "1        242879           Maurice        32.0              465.0       21.0\n",
       "2        242880           Maurice        33.0              462.0       21.0\n",
       "3        242882           Maurice        48.0              462.0       21.0\n",
       "4        242884           Maurice        59.0              434.0       23.5\n",
       "...         ...               ...         ...                ...        ...\n",
       "6874     282451          Philippe        30.0              462.0       35.0\n",
       "6875     282453          Philippe        32.0              477.5       31.0\n",
       "6876     282454          Philippe        33.0              467.0       30.5\n",
       "6877     282459          Philippe        38.0              464.0       30.0\n",
       "6878     282460          Philippe        38.0              464.0       30.0\n",
       "\n",
       "[6879 rows x 5 columns]"
      ]
     },
     "execution_count": 21,
     "metadata": {},
     "output_type": "execute_result"
    }
   ],
   "source": [
    "# Using your function, print the return if the “driver_id” = (from 282460 to 242870)\n",
    "\n",
    "result = search_by_driver_id([242870,282460])\n",
    "result = pd.DataFrame(result,columns=['driver_id','driver_first_name','driver_age','avg_trip_distance','avg_price'])\n",
    "result"
   ]
  },
  {
   "cell_type": "code",
   "execution_count": null,
   "metadata": {},
   "outputs": [],
   "source": []
  },
  {
   "cell_type": "markdown",
   "metadata": {
    "id": "2R0v68tGhw4I"
   },
   "source": [
    "# Data Visualization & Data Analysis"
   ]
  },
  {
   "cell_type": "markdown",
   "metadata": {
    "id": "OcyEn2ZBhw4I"
   },
   "source": [
    "# Data Visualization"
   ]
  },
  {
   "cell_type": "code",
   "execution_count": 22,
   "metadata": {},
   "outputs": [
    {
     "data": {
      "text/html": [
       "<div>\n",
       "<style scoped>\n",
       "    .dataframe tbody tr th:only-of-type {\n",
       "        vertical-align: middle;\n",
       "    }\n",
       "\n",
       "    .dataframe tbody tr th {\n",
       "        vertical-align: top;\n",
       "    }\n",
       "\n",
       "    .dataframe thead th {\n",
       "        text-align: right;\n",
       "    }\n",
       "</style>\n",
       "<table border=\"1\" class=\"dataframe\">\n",
       "  <thead>\n",
       "    <tr style=\"text-align: right;\">\n",
       "      <th></th>\n",
       "      <th>Satisfaction_Livel</th>\n",
       "      <th>min_price_depd</th>\n",
       "      <th>max_price_depd</th>\n",
       "    </tr>\n",
       "  </thead>\n",
       "  <tbody>\n",
       "    <tr>\n",
       "      <th>0</th>\n",
       "      <td>Average</td>\n",
       "      <td>17.463388</td>\n",
       "      <td>47.266815</td>\n",
       "    </tr>\n",
       "    <tr>\n",
       "      <th>1</th>\n",
       "      <td>Excellent</td>\n",
       "      <td>17.462419</td>\n",
       "      <td>46.790371</td>\n",
       "    </tr>\n",
       "    <tr>\n",
       "      <th>2</th>\n",
       "      <td>Good</td>\n",
       "      <td>17.534358</td>\n",
       "      <td>46.800539</td>\n",
       "    </tr>\n",
       "    <tr>\n",
       "      <th>3</th>\n",
       "      <td>Poor</td>\n",
       "      <td>17.386978</td>\n",
       "      <td>46.447501</td>\n",
       "    </tr>\n",
       "    <tr>\n",
       "      <th>4</th>\n",
       "      <td>VeryGood</td>\n",
       "      <td>17.503618</td>\n",
       "      <td>46.844440</td>\n",
       "    </tr>\n",
       "  </tbody>\n",
       "</table>\n",
       "</div>"
      ],
      "text/plain": [
       "  Satisfaction_Livel  min_price_depd  max_price_depd\n",
       "0            Average       17.463388       47.266815\n",
       "1          Excellent       17.462419       46.790371\n",
       "2               Good       17.534358       46.800539\n",
       "3               Poor       17.386978       46.447501\n",
       "4           VeryGood       17.503618       46.844440"
      ]
     },
     "execution_count": 22,
     "metadata": {},
     "output_type": "execute_result"
    }
   ],
   "source": [
    "df.groupby('Satisfaction_Livel')[['min_price_depd', 'max_price_depd']].mean().reset_index()"
   ]
  },
  {
   "cell_type": "code",
   "execution_count": 23,
   "metadata": {
    "colab": {
     "base_uri": "https://localhost:8080/",
     "height": 472
    },
    "id": "03c4D9_Chw4I",
    "outputId": "f5007b4e-97f5-404a-dfd2-41ad2bb866b1"
   },
   "outputs": [
    {
     "data": {
      "image/png": "[encoded data removed]",
      "text/plain": [
       "<Figure size 640x480 with 1 Axes>"
      ]
     },
     "metadata": {},
     "output_type": "display_data"
    }
   ],
   "source": [
    "# The Bar chart  of the average of (min_price_depd  &  max_price_depd) by ‘Satisfaction_Livel’\n",
    "\n",
    "average_prices = df.groupby('Satisfaction_Livel')[['min_price_depd', 'max_price_depd']].mean()\n",
    "average_prices.plot(kind='bar', color = ['blue','red'],rot=0)\n",
    "\n",
    "plt.title('Average of min & max price_depd by Satisfaction Level')\n",
    "plt.xlabel('Satisfaction_Level')\n",
    "plt.ylabel('Average Price')\n",
    "plt.show()"
   ]
  },
  {
   "cell_type": "code",
   "execution_count": 24,
   "metadata": {},
   "outputs": [
    {
     "data": {
      "image/png": "[encoded data removed]",
      "text/plain": [
       "<Figure size 640x480 with 1 Axes>"
      ]
     },
     "metadata": {},
     "output_type": "display_data"
    }
   ],
   "source": [
    "# The Bar chart  of the average of (min_price_depd  &  max_price_depd) by ‘Satisfaction_Livel’\n",
    "max = df.groupby('Satisfaction_Livel')['max_price_depd'].mean()\n",
    "min = df.groupby('Satisfaction_Livel')['min_price_depd'].mean()\n",
    "plt.bar([i[0]-0.25 for i in enumerate(max.index)],max,0.25)\n",
    "plt.bar([i[0]+0.25 for i in enumerate(max.index)],min,0.25)\n",
    "plt.xticks(np.arange(len(max.index)),max.index.tolist())\n",
    "\n",
    "plt.title('Average of min & max price_depd by Satisfaction Level')\n",
    "plt.xlabel('Satisfaction_Level')\n",
    "plt.ylabel('Average Price')\n",
    "plt.show()"
   ]
  },
  {
   "cell_type": "code",
   "execution_count": null,
   "metadata": {},
   "outputs": [],
   "source": []
  },
  {
   "cell_type": "code",
   "execution_count": 25,
   "metadata": {},
   "outputs": [
    {
     "data": {
      "image/png": "[encoded data removed]",
      "text/plain": [
       "<Figure size 640x480 with 1 Axes>"
      ]
     },
     "metadata": {},
     "output_type": "display_data"
    }
   ],
   "source": [
    "# Read the maximum of 'nb_evaluation' by ‘driver_status‘ and show it using a Pie chart\n",
    "pie_data = df.groupby('driver_status')[['driver_status','nb_evaluation']].max()\n",
    "plt.pie(labels = pie_data.iloc[:,0].tolist(),x = pie_data.iloc[:,1].tolist(),autopct='%1.0f%%')\n",
    "plt.title('maximum of nb_evaluation by ‘driver_status‘')\n",
    "plt.show()"
   ]
  },
  {
   "cell_type": "code",
   "execution_count": null,
   "metadata": {},
   "outputs": [],
   "source": []
  },
  {
   "cell_type": "code",
   "execution_count": 26,
   "metadata": {
    "colab": {
     "base_uri": "https://localhost:8080/",
     "height": 428
    },
    "id": "mdODejf2hw4J",
    "outputId": "285e0e3e-46ed-479a-c987-ef85c6b329dc"
   },
   "outputs": [
    {
     "data": {
      "image/png": "[encoded data removed]",
      "text/plain": [
       "<Figure size 640x480 with 1 Axes>"
      ]
     },
     "metadata": {},
     "output_type": "display_data"
    }
   ],
   "source": [
    "# Read the maximum of 'nb_evaluation' by ‘driver_status‘ and show it using a Pie chart\n",
    "\n",
    "max_nb_evaluation = df.groupby('driver_status')['nb_evaluation'].max()\n",
    "max_nb_evaluation.plot(kind='pie', autopct='%1.1f%%')\n",
    "plt.title('Maximum of nb_evaluation by driver_status')\n",
    "\n",
    "plt.show()"
   ]
  },
  {
   "cell_type": "code",
   "execution_count": 27,
   "metadata": {
    "colab": {
     "base_uri": "https://localhost:8080/",
     "height": 472
    },
    "id": "Xn6U3LG0hw4J",
    "outputId": "b900c540-c20d-4336-a28a-cd931e99ee7c"
   },
   "outputs": [
    {
     "data": {
      "image/png": "[encoded data removed]",
      "text/plain": [
       "<Figure size 640x480 with 1 Axes>"
      ]
     },
     "metadata": {},
     "output_type": "display_data"
    }
   ],
   "source": [
    "# Read the “driver_age ” of each driver and show it using the histogram to see five ‘driver-age ranges (0-20, 21-40, 41-60, 61-80, 81-100)\n",
    "\n",
    "df['driver_age'].plot(kind='hist', bins=[0, 20, 40, 60, 80, 100], color = 'm', rwidth=0.8)\n",
    "plt.title('Driver Age Histogram')\n",
    "plt.xlabel('Driver Age')\n",
    "plt.ylabel('Frequency')\n",
    "plt.show()"
   ]
  },
  {
   "cell_type": "code",
   "execution_count": null,
   "metadata": {},
   "outputs": [],
   "source": []
  },
  {
   "cell_type": "code",
   "execution_count": null,
   "metadata": {},
   "outputs": [],
   "source": []
  },
  {
   "cell_type": "markdown",
   "metadata": {
    "id": "G72wY2zqhw4J"
   },
   "source": [
    "# Data Analysis\n",
    "The manager data scientist of BlaBlaCar asks you to publish:\n",
    " the Top Five BlaBlaCar_Index  driver with ( Driver_id,  Driver_first_name,   \n",
    "                                            driver_status,  Business_Index, Confort_Index  ) \n",
    "\n",
    "( BlaBlaCar_Index) per Driver_id =   { ( Business_Index )   /   (1+ Confort_Index) } per Driver_id"
   ]
  },
  {
   "cell_type": "code",
   "execution_count": 28,
   "metadata": {},
   "outputs": [],
   "source": [
    "# Business_Index Value: Total (trip Distance * mean_price_depd) per Driver_id\n",
    "df['Business_Index'] = df['trip_distance'] * df['mean_price_depd']"
   ]
  },
  {
   "cell_type": "code",
   "execution_count": 29,
   "metadata": {},
   "outputs": [],
   "source": [
    "# Confort_Index Value = Total (3 + car_rating + detour_time + music - smoking) per Driver_id\n",
    "df['Confort_Index'] = 3 + df['car_rating'] + df['detour_time'] + df['music'] - df['smoking']"
   ]
  },
  {
   "cell_type": "code",
   "execution_count": 30,
   "metadata": {
    "id": "MglL58Hzhw4J",
    "outputId": "4a3bd355-7928-4a46-f40c-ff658637e5f5"
   },
   "outputs": [],
   "source": [
    "# BlaBlaCar Index: {(Business_Index) / (1+ Confort_Index)} per Driver_id\n",
    "df['BlaBlaCar_Index'] = df['Business_Index'] / (1 + df['Confort_Index'])"
   ]
  },
  {
   "cell_type": "code",
   "execution_count": 31,
   "metadata": {},
   "outputs": [
    {
     "data": {
      "text/html": [
       "<div>\n",
       "<style scoped>\n",
       "    .dataframe tbody tr th:only-of-type {\n",
       "        vertical-align: middle;\n",
       "    }\n",
       "\n",
       "    .dataframe tbody tr th {\n",
       "        vertical-align: top;\n",
       "    }\n",
       "\n",
       "    .dataframe thead th {\n",
       "        text-align: right;\n",
       "    }\n",
       "</style>\n",
       "<table border=\"1\" class=\"dataframe\">\n",
       "  <thead>\n",
       "    <tr style=\"text-align: right;\">\n",
       "      <th></th>\n",
       "      <th>driver_id</th>\n",
       "      <th>offer_id</th>\n",
       "      <th>departure</th>\n",
       "      <th>arrival</th>\n",
       "      <th>trip_distance</th>\n",
       "      <th>offer_date</th>\n",
       "      <th>departure_date</th>\n",
       "      <th>price</th>\n",
       "      <th>nb_offers</th>\n",
       "      <th>photo</th>\n",
       "      <th>...</th>\n",
       "      <th>seats_in_car</th>\n",
       "      <th>seat_sold</th>\n",
       "      <th>Driver_first_name</th>\n",
       "      <th>Satisfaction_Livel</th>\n",
       "      <th>nb_evaluation</th>\n",
       "      <th>driver_age</th>\n",
       "      <th>driver_gender</th>\n",
       "      <th>Business_Index</th>\n",
       "      <th>Confort_Index</th>\n",
       "      <th>BlaBlaCar_Index</th>\n",
       "    </tr>\n",
       "  </thead>\n",
       "  <tbody>\n",
       "    <tr>\n",
       "      <th>0</th>\n",
       "      <td>123956.0</td>\n",
       "      <td>427719.0</td>\n",
       "      <td>Lyon</td>\n",
       "      <td>Paris</td>\n",
       "      <td>425.0</td>\n",
       "      <td>5-Jan-14</td>\n",
       "      <td>1/12/2014 17:30</td>\n",
       "      <td>28.0</td>\n",
       "      <td>526.0</td>\n",
       "      <td>0.0</td>\n",
       "      <td>...</td>\n",
       "      <td>4.0</td>\n",
       "      <td>0.0</td>\n",
       "      <td>Francois</td>\n",
       "      <td>Excellent</td>\n",
       "      <td>0.0</td>\n",
       "      <td>25.0</td>\n",
       "      <td>0.0</td>\n",
       "      <td>12355.279975</td>\n",
       "      <td>21.0</td>\n",
       "      <td>561.603635</td>\n",
       "    </tr>\n",
       "    <tr>\n",
       "      <th>1</th>\n",
       "      <td>81617.0</td>\n",
       "      <td>280534.0</td>\n",
       "      <td>Lyon</td>\n",
       "      <td>Paris</td>\n",
       "      <td>429.0</td>\n",
       "      <td>2-Jan-14</td>\n",
       "      <td>1/6/2014 14:40</td>\n",
       "      <td>30.0</td>\n",
       "      <td>526.0</td>\n",
       "      <td>0.0</td>\n",
       "      <td>...</td>\n",
       "      <td>0.0</td>\n",
       "      <td>0.0</td>\n",
       "      <td>Corinne</td>\n",
       "      <td>Good</td>\n",
       "      <td>24.0</td>\n",
       "      <td>31.0</td>\n",
       "      <td>1.0</td>\n",
       "      <td>12381.855057</td>\n",
       "      <td>21.0</td>\n",
       "      <td>562.811594</td>\n",
       "    </tr>\n",
       "    <tr>\n",
       "      <th>2</th>\n",
       "      <td>198167.0</td>\n",
       "      <td>657605.0</td>\n",
       "      <td>Lyon</td>\n",
       "      <td>Paris</td>\n",
       "      <td>429.0</td>\n",
       "      <td>2-Jan-14</td>\n",
       "      <td>1/6/2014 15:10</td>\n",
       "      <td>31.0</td>\n",
       "      <td>526.0</td>\n",
       "      <td>1.0</td>\n",
       "      <td>...</td>\n",
       "      <td>0.0</td>\n",
       "      <td>0.0</td>\n",
       "      <td>Laura</td>\n",
       "      <td>Excellent</td>\n",
       "      <td>1.0</td>\n",
       "      <td>31.0</td>\n",
       "      <td>1.0</td>\n",
       "      <td>12381.855057</td>\n",
       "      <td>21.0</td>\n",
       "      <td>562.811594</td>\n",
       "    </tr>\n",
       "    <tr>\n",
       "      <th>3</th>\n",
       "      <td>282817.0</td>\n",
       "      <td>946022.0</td>\n",
       "      <td>Lyon</td>\n",
       "      <td>Paris</td>\n",
       "      <td>429.0</td>\n",
       "      <td>2-Jan-14</td>\n",
       "      <td>1/6/2014 15:30</td>\n",
       "      <td>25.0</td>\n",
       "      <td>526.0</td>\n",
       "      <td>1.0</td>\n",
       "      <td>...</td>\n",
       "      <td>3.0</td>\n",
       "      <td>3.0</td>\n",
       "      <td>Philippe</td>\n",
       "      <td>VeryGood</td>\n",
       "      <td>3.0</td>\n",
       "      <td>31.0</td>\n",
       "      <td>0.0</td>\n",
       "      <td>12381.855057</td>\n",
       "      <td>23.0</td>\n",
       "      <td>515.910627</td>\n",
       "    </tr>\n",
       "    <tr>\n",
       "      <th>4</th>\n",
       "      <td>29640.0</td>\n",
       "      <td>94886.0</td>\n",
       "      <td>Lyon</td>\n",
       "      <td>Paris</td>\n",
       "      <td>435.0</td>\n",
       "      <td>5-Jan-14</td>\n",
       "      <td>1/19/2014 9:00</td>\n",
       "      <td>25.0</td>\n",
       "      <td>526.0</td>\n",
       "      <td>1.0</td>\n",
       "      <td>...</td>\n",
       "      <td>7.0</td>\n",
       "      <td>4.0</td>\n",
       "      <td>Antoine</td>\n",
       "      <td>VeryGood</td>\n",
       "      <td>10.0</td>\n",
       "      <td>26.0</td>\n",
       "      <td>0.0</td>\n",
       "      <td>12773.689305</td>\n",
       "      <td>7.0</td>\n",
       "      <td>1596.711163</td>\n",
       "    </tr>\n",
       "    <tr>\n",
       "      <th>...</th>\n",
       "      <td>...</td>\n",
       "      <td>...</td>\n",
       "      <td>...</td>\n",
       "      <td>...</td>\n",
       "      <td>...</td>\n",
       "      <td>...</td>\n",
       "      <td>...</td>\n",
       "      <td>...</td>\n",
       "      <td>...</td>\n",
       "      <td>...</td>\n",
       "      <td>...</td>\n",
       "      <td>...</td>\n",
       "      <td>...</td>\n",
       "      <td>...</td>\n",
       "      <td>...</td>\n",
       "      <td>...</td>\n",
       "      <td>...</td>\n",
       "      <td>...</td>\n",
       "      <td>...</td>\n",
       "      <td>...</td>\n",
       "      <td>...</td>\n",
       "    </tr>\n",
       "    <tr>\n",
       "      <th>97620</th>\n",
       "      <td>315770.0</td>\n",
       "      <td>1055947.0</td>\n",
       "      <td>Lyon</td>\n",
       "      <td>Paris</td>\n",
       "      <td>506.0</td>\n",
       "      <td>5-Mar-14</td>\n",
       "      <td>3/14/2014 14:30</td>\n",
       "      <td>28.0</td>\n",
       "      <td>834.0</td>\n",
       "      <td>1.0</td>\n",
       "      <td>...</td>\n",
       "      <td>0.0</td>\n",
       "      <td>0.0</td>\n",
       "      <td>Solange</td>\n",
       "      <td>Good</td>\n",
       "      <td>2.0</td>\n",
       "      <td>49.0</td>\n",
       "      <td>1.0</td>\n",
       "      <td>15148.761078</td>\n",
       "      <td>20.0</td>\n",
       "      <td>721.369575</td>\n",
       "    </tr>\n",
       "    <tr>\n",
       "      <th>97621</th>\n",
       "      <td>324044.0</td>\n",
       "      <td>1089104.0</td>\n",
       "      <td>Lyon</td>\n",
       "      <td>Paris</td>\n",
       "      <td>506.0</td>\n",
       "      <td>13-Mar-14</td>\n",
       "      <td>3/16/2014 17:45</td>\n",
       "      <td>31.0</td>\n",
       "      <td>834.0</td>\n",
       "      <td>0.0</td>\n",
       "      <td>...</td>\n",
       "      <td>3.0</td>\n",
       "      <td>0.0</td>\n",
       "      <td>Sylvain</td>\n",
       "      <td>Excellent</td>\n",
       "      <td>15.0</td>\n",
       "      <td>44.0</td>\n",
       "      <td>0.0</td>\n",
       "      <td>14931.587396</td>\n",
       "      <td>7.0</td>\n",
       "      <td>1866.448425</td>\n",
       "    </tr>\n",
       "    <tr>\n",
       "      <th>97622</th>\n",
       "      <td>175981.0</td>\n",
       "      <td>583045.0</td>\n",
       "      <td>Lyon</td>\n",
       "      <td>Paris</td>\n",
       "      <td>514.0</td>\n",
       "      <td>13-Mar-14</td>\n",
       "      <td>5/4/2014 10:05</td>\n",
       "      <td>37.0</td>\n",
       "      <td>834.0</td>\n",
       "      <td>1.0</td>\n",
       "      <td>...</td>\n",
       "      <td>4.0</td>\n",
       "      <td>2.0</td>\n",
       "      <td>Jerome</td>\n",
       "      <td>Good</td>\n",
       "      <td>5.0</td>\n",
       "      <td>44.0</td>\n",
       "      <td>0.0</td>\n",
       "      <td>15569.916324</td>\n",
       "      <td>21.0</td>\n",
       "      <td>707.723469</td>\n",
       "    </tr>\n",
       "    <tr>\n",
       "      <th>97623</th>\n",
       "      <td>123163.0</td>\n",
       "      <td>423113.0</td>\n",
       "      <td>Lyon</td>\n",
       "      <td>Paris</td>\n",
       "      <td>528.0</td>\n",
       "      <td>13-Mar-14</td>\n",
       "      <td>4/13/2014 16:00</td>\n",
       "      <td>28.0</td>\n",
       "      <td>834.0</td>\n",
       "      <td>0.0</td>\n",
       "      <td>...</td>\n",
       "      <td>2.0</td>\n",
       "      <td>0.0</td>\n",
       "      <td>Franck</td>\n",
       "      <td>VeryGood</td>\n",
       "      <td>16.0</td>\n",
       "      <td>27.0</td>\n",
       "      <td>0.0</td>\n",
       "      <td>15538.286016</td>\n",
       "      <td>6.0</td>\n",
       "      <td>2219.755145</td>\n",
       "    </tr>\n",
       "    <tr>\n",
       "      <th>97624</th>\n",
       "      <td>331016.0</td>\n",
       "      <td>1113745.0</td>\n",
       "      <td>Lyon</td>\n",
       "      <td>Paris</td>\n",
       "      <td>529.0</td>\n",
       "      <td>13-Mar-14</td>\n",
       "      <td>3/23/2014 17:00</td>\n",
       "      <td>28.0</td>\n",
       "      <td>834.0</td>\n",
       "      <td>1.0</td>\n",
       "      <td>...</td>\n",
       "      <td>4.0</td>\n",
       "      <td>2.0</td>\n",
       "      <td>Thomas</td>\n",
       "      <td>VeryGood</td>\n",
       "      <td>8.0</td>\n",
       "      <td>25.0</td>\n",
       "      <td>0.0</td>\n",
       "      <td>15819.415433</td>\n",
       "      <td>21.0</td>\n",
       "      <td>719.064338</td>\n",
       "    </tr>\n",
       "  </tbody>\n",
       "</table>\n",
       "<p>97625 rows × 34 columns</p>\n",
       "</div>"
      ],
      "text/plain": [
       "       driver_id   offer_id departure arrival  trip_distance offer_date  \\\n",
       "0       123956.0   427719.0      Lyon   Paris          425.0   5-Jan-14   \n",
       "1        81617.0   280534.0      Lyon   Paris          429.0   2-Jan-14   \n",
       "2       198167.0   657605.0      Lyon   Paris          429.0   2-Jan-14   \n",
       "3       282817.0   946022.0      Lyon   Paris          429.0   2-Jan-14   \n",
       "4        29640.0    94886.0      Lyon   Paris          435.0   5-Jan-14   \n",
       "...          ...        ...       ...     ...            ...        ...   \n",
       "97620   315770.0  1055947.0      Lyon   Paris          506.0   5-Mar-14   \n",
       "97621   324044.0  1089104.0      Lyon   Paris          506.0  13-Mar-14   \n",
       "97622   175981.0   583045.0      Lyon   Paris          514.0  13-Mar-14   \n",
       "97623   123163.0   423113.0      Lyon   Paris          528.0  13-Mar-14   \n",
       "97624   331016.0  1113745.0      Lyon   Paris          529.0  13-Mar-14   \n",
       "\n",
       "        departure_date  price  nb_offers  photo  ... seats_in_car  seat_sold  \\\n",
       "0      1/12/2014 17:30   28.0      526.0    0.0  ...          4.0        0.0   \n",
       "1       1/6/2014 14:40   30.0      526.0    0.0  ...          0.0        0.0   \n",
       "2       1/6/2014 15:10   31.0      526.0    1.0  ...          0.0        0.0   \n",
       "3       1/6/2014 15:30   25.0      526.0    1.0  ...          3.0        3.0   \n",
       "4       1/19/2014 9:00   25.0      526.0    1.0  ...          7.0        4.0   \n",
       "...                ...    ...        ...    ...  ...          ...        ...   \n",
       "97620  3/14/2014 14:30   28.0      834.0    1.0  ...          0.0        0.0   \n",
       "97621  3/16/2014 17:45   31.0      834.0    0.0  ...          3.0        0.0   \n",
       "97622   5/4/2014 10:05   37.0      834.0    1.0  ...          4.0        2.0   \n",
       "97623  4/13/2014 16:00   28.0      834.0    0.0  ...          2.0        0.0   \n",
       "97624  3/23/2014 17:00   28.0      834.0    1.0  ...          4.0        2.0   \n",
       "\n",
       "       Driver_first_name  Satisfaction_Livel  nb_evaluation  driver_age  \\\n",
       "0               Francois           Excellent            0.0        25.0   \n",
       "1                Corinne                Good           24.0        31.0   \n",
       "2                  Laura           Excellent            1.0        31.0   \n",
       "3               Philippe            VeryGood            3.0        31.0   \n",
       "4                Antoine            VeryGood           10.0        26.0   \n",
       "...                  ...                 ...            ...         ...   \n",
       "97620            Solange                Good            2.0        49.0   \n",
       "97621            Sylvain           Excellent           15.0        44.0   \n",
       "97622             Jerome                Good            5.0        44.0   \n",
       "97623             Franck            VeryGood           16.0        27.0   \n",
       "97624             Thomas            VeryGood            8.0        25.0   \n",
       "\n",
       "       driver_gender  Business_Index  Confort_Index  BlaBlaCar_Index  \n",
       "0                0.0    12355.279975           21.0       561.603635  \n",
       "1                1.0    12381.855057           21.0       562.811594  \n",
       "2                1.0    12381.855057           21.0       562.811594  \n",
       "3                0.0    12381.855057           23.0       515.910627  \n",
       "4                0.0    12773.689305            7.0      1596.711163  \n",
       "...              ...             ...            ...              ...  \n",
       "97620            1.0    15148.761078           20.0       721.369575  \n",
       "97621            0.0    14931.587396            7.0      1866.448425  \n",
       "97622            0.0    15569.916324           21.0       707.723469  \n",
       "97623            0.0    15538.286016            6.0      2219.755145  \n",
       "97624            0.0    15819.415433           21.0       719.064338  \n",
       "\n",
       "[97625 rows x 34 columns]"
      ]
     },
     "execution_count": 31,
     "metadata": {},
     "output_type": "execute_result"
    }
   ],
   "source": [
    "df"
   ]
  },
  {
   "cell_type": "code",
   "execution_count": 32,
   "metadata": {},
   "outputs": [
    {
     "data": {
      "text/html": [
       "<div>\n",
       "<style scoped>\n",
       "    .dataframe tbody tr th:only-of-type {\n",
       "        vertical-align: middle;\n",
       "    }\n",
       "\n",
       "    .dataframe tbody tr th {\n",
       "        vertical-align: top;\n",
       "    }\n",
       "\n",
       "    .dataframe thead th {\n",
       "        text-align: right;\n",
       "    }\n",
       "</style>\n",
       "<table border=\"1\" class=\"dataframe\">\n",
       "  <thead>\n",
       "    <tr style=\"text-align: right;\">\n",
       "      <th></th>\n",
       "      <th>driver_id</th>\n",
       "      <th>BlaBlaCar_Index</th>\n",
       "    </tr>\n",
       "  </thead>\n",
       "  <tbody>\n",
       "    <tr>\n",
       "      <th>0</th>\n",
       "      <td>123956.0</td>\n",
       "      <td>561.603635</td>\n",
       "    </tr>\n",
       "    <tr>\n",
       "      <th>1</th>\n",
       "      <td>81617.0</td>\n",
       "      <td>562.811594</td>\n",
       "    </tr>\n",
       "    <tr>\n",
       "      <th>2</th>\n",
       "      <td>198167.0</td>\n",
       "      <td>562.811594</td>\n",
       "    </tr>\n",
       "    <tr>\n",
       "      <th>3</th>\n",
       "      <td>282817.0</td>\n",
       "      <td>515.910627</td>\n",
       "    </tr>\n",
       "    <tr>\n",
       "      <th>4</th>\n",
       "      <td>29640.0</td>\n",
       "      <td>1596.711163</td>\n",
       "    </tr>\n",
       "    <tr>\n",
       "      <th>...</th>\n",
       "      <td>...</td>\n",
       "      <td>...</td>\n",
       "    </tr>\n",
       "    <tr>\n",
       "      <th>97620</th>\n",
       "      <td>315770.0</td>\n",
       "      <td>721.369575</td>\n",
       "    </tr>\n",
       "    <tr>\n",
       "      <th>97621</th>\n",
       "      <td>324044.0</td>\n",
       "      <td>1866.448425</td>\n",
       "    </tr>\n",
       "    <tr>\n",
       "      <th>97622</th>\n",
       "      <td>175981.0</td>\n",
       "      <td>707.723469</td>\n",
       "    </tr>\n",
       "    <tr>\n",
       "      <th>97623</th>\n",
       "      <td>123163.0</td>\n",
       "      <td>2219.755145</td>\n",
       "    </tr>\n",
       "    <tr>\n",
       "      <th>97624</th>\n",
       "      <td>331016.0</td>\n",
       "      <td>719.064338</td>\n",
       "    </tr>\n",
       "  </tbody>\n",
       "</table>\n",
       "<p>97625 rows × 2 columns</p>\n",
       "</div>"
      ],
      "text/plain": [
       "       driver_id  BlaBlaCar_Index\n",
       "0       123956.0       561.603635\n",
       "1        81617.0       562.811594\n",
       "2       198167.0       562.811594\n",
       "3       282817.0       515.910627\n",
       "4        29640.0      1596.711163\n",
       "...          ...              ...\n",
       "97620   315770.0       721.369575\n",
       "97621   324044.0      1866.448425\n",
       "97622   175981.0       707.723469\n",
       "97623   123163.0      2219.755145\n",
       "97624   331016.0       719.064338\n",
       "\n",
       "[97625 rows x 2 columns]"
      ]
     },
     "execution_count": 32,
     "metadata": {},
     "output_type": "execute_result"
    }
   ],
   "source": [
    "df[['driver_id', 'BlaBlaCar_Index']]"
   ]
  },
  {
   "cell_type": "markdown",
   "metadata": {},
   "source": [
    "The manager data scientist of BlaBlaCar asks you to publish:\n",
    "     the Top Five BlaBlaCar_Index  driver with ( Driver_id,  Driver_first_name,  \n",
    "                    driver_status,  Business_Index, Confort_Index  ) "
   ]
  },
  {
   "cell_type": "code",
   "execution_count": 33,
   "metadata": {},
   "outputs": [
    {
     "data": {
      "text/html": [
       "<div>\n",
       "<style scoped>\n",
       "    .dataframe tbody tr th:only-of-type {\n",
       "        vertical-align: middle;\n",
       "    }\n",
       "\n",
       "    .dataframe tbody tr th {\n",
       "        vertical-align: top;\n",
       "    }\n",
       "\n",
       "    .dataframe thead th {\n",
       "        text-align: right;\n",
       "    }\n",
       "</style>\n",
       "<table border=\"1\" class=\"dataframe\">\n",
       "  <thead>\n",
       "    <tr style=\"text-align: right;\">\n",
       "      <th></th>\n",
       "      <th>driver_id</th>\n",
       "      <th>Driver_first_name</th>\n",
       "      <th>driver_status</th>\n",
       "      <th>BlaBlaCar_Index</th>\n",
       "    </tr>\n",
       "  </thead>\n",
       "  <tbody>\n",
       "    <tr>\n",
       "      <th>9905</th>\n",
       "      <td>54213.0</td>\n",
       "      <td>Camara</td>\n",
       "      <td>S1</td>\n",
       "      <td>6291.808029</td>\n",
       "    </tr>\n",
       "    <tr>\n",
       "      <th>58319</th>\n",
       "      <td>316597.0</td>\n",
       "      <td>Solveig</td>\n",
       "      <td>S1</td>\n",
       "      <td>5668.278317</td>\n",
       "    </tr>\n",
       "    <tr>\n",
       "      <th>51006</th>\n",
       "      <td>280513.0</td>\n",
       "      <td>Pedro</td>\n",
       "      <td>S1</td>\n",
       "      <td>5550.417136</td>\n",
       "    </tr>\n",
       "    <tr>\n",
       "      <th>56463</th>\n",
       "      <td>306909.0</td>\n",
       "      <td>Sandra</td>\n",
       "      <td>S1</td>\n",
       "      <td>5546.335125</td>\n",
       "    </tr>\n",
       "    <tr>\n",
       "      <th>18316</th>\n",
       "      <td>99606.0</td>\n",
       "      <td>Elisabeth</td>\n",
       "      <td>S1</td>\n",
       "      <td>5478.839520</td>\n",
       "    </tr>\n",
       "  </tbody>\n",
       "</table>\n",
       "</div>"
      ],
      "text/plain": [
       "       driver_id Driver_first_name driver_status  BlaBlaCar_Index\n",
       "9905     54213.0            Camara            S1      6291.808029\n",
       "58319   316597.0           Solveig            S1      5668.278317\n",
       "51006   280513.0             Pedro            S1      5550.417136\n",
       "56463   306909.0            Sandra            S1      5546.335125\n",
       "18316    99606.0         Elisabeth            S1      5478.839520"
      ]
     },
     "execution_count": 33,
     "metadata": {},
     "output_type": "execute_result"
    }
   ],
   "source": [
    "# The Top Five BlaBlaCar_Index driver with (Driver_id, Driver_first_name, driver_status, Business_Index, Confort_Index)\n",
    "BlaBlaCar_index_top5 = pd.pivot_table(df,values=['BlaBlaCar_Index'],\n",
    "                index=['driver_id', 'Driver_first_name', 'driver_status']).reset_index().sort_values('BlaBlaCar_Index',ascending=False).head(5)\n",
    "BlaBlaCar_index_top5"
   ]
  },
  {
   "cell_type": "code",
   "execution_count": null,
   "metadata": {},
   "outputs": [],
   "source": []
  },
  {
   "cell_type": "code",
   "execution_count": 34,
   "metadata": {
    "id": "gSOk1pafhw4J",
    "outputId": "0bd6f641-bfb0-4d19-d2f4-564756e31ce4"
   },
   "outputs": [],
   "source": [
    "# The Top Five BlaBlaCar_Index driver with (Driver_id, Driver_first_name, driver_status, Business_Index, Confort_Index)"
   ]
  },
  {
   "cell_type": "markdown",
   "metadata": {
    "id": "-yGWJoSVhw4K"
   },
   "source": [
    "# Machine Learning Algorithm"
   ]
  },
  {
   "cell_type": "markdown",
   "metadata": {
    "id": "6sbLTdashw4K"
   },
   "source": [
    "a) Supervised Machine Learning"
   ]
  },
  {
   "cell_type": "markdown",
   "metadata": {},
   "source": [
    "a)\tSupervised Machine Learning \n",
    "\tConduct and Interpret a Logistic Regression  \n",
    "\t Write the resulting logistic regression equation for model1 below:\n",
    "\n",
    "Predicted logit [' Recommendation' ]  =    (1 ,0)]  =  [ Yes, or  Non ]  \n",
    "\n",
    "Independent Variable ( X ) = (‘music’,‘talk’, ‘pet’, ‘smoking’, ‘detour_time') \n"
   ]
  },
  {
   "cell_type": "code",
   "execution_count": 35,
   "metadata": {
    "colab": {
     "base_uri": "https://localhost:8080/",
     "height": 256
    },
    "id": "Ku5KzVgipZN_",
    "outputId": "7fa7cfc0-45db-4004-d805-4d8e67453b5d"
   },
   "outputs": [
    {
     "data": {
      "text/html": [
       "<div>\n",
       "<style scoped>\n",
       "    .dataframe tbody tr th:only-of-type {\n",
       "        vertical-align: middle;\n",
       "    }\n",
       "\n",
       "    .dataframe tbody tr th {\n",
       "        vertical-align: top;\n",
       "    }\n",
       "\n",
       "    .dataframe thead th {\n",
       "        text-align: right;\n",
       "    }\n",
       "</style>\n",
       "<table border=\"1\" class=\"dataframe\">\n",
       "  <thead>\n",
       "    <tr style=\"text-align: right;\">\n",
       "      <th></th>\n",
       "      <th>Satisfaction_Livel</th>\n",
       "      <th>Recommendation</th>\n",
       "    </tr>\n",
       "  </thead>\n",
       "  <tbody>\n",
       "    <tr>\n",
       "      <th>0</th>\n",
       "      <td>Excellent</td>\n",
       "      <td>1.0</td>\n",
       "    </tr>\n",
       "    <tr>\n",
       "      <th>1</th>\n",
       "      <td>Good</td>\n",
       "      <td>1.0</td>\n",
       "    </tr>\n",
       "    <tr>\n",
       "      <th>2</th>\n",
       "      <td>Excellent</td>\n",
       "      <td>1.0</td>\n",
       "    </tr>\n",
       "    <tr>\n",
       "      <th>3</th>\n",
       "      <td>VeryGood</td>\n",
       "      <td>1.0</td>\n",
       "    </tr>\n",
       "    <tr>\n",
       "      <th>4</th>\n",
       "      <td>VeryGood</td>\n",
       "      <td>1.0</td>\n",
       "    </tr>\n",
       "  </tbody>\n",
       "</table>\n",
       "</div>"
      ],
      "text/plain": [
       "  Satisfaction_Livel  Recommendation\n",
       "0          Excellent             1.0\n",
       "1               Good             1.0\n",
       "2          Excellent             1.0\n",
       "3           VeryGood             1.0\n",
       "4           VeryGood             1.0"
      ]
     },
     "execution_count": 35,
     "metadata": {},
     "output_type": "execute_result"
    }
   ],
   "source": [
    "# New columns 'recommendation'\n",
    "\n",
    "df['Recommendation'] = df['Satisfaction_Livel'].map({'Bad':0, 'Average':0, 'Good':1, 'VeryGood':1, 'Excellent':1})\n",
    "df[['Satisfaction_Livel', 'Recommendation']].head()"
   ]
  },
  {
   "cell_type": "code",
   "execution_count": 36,
   "metadata": {},
   "outputs": [],
   "source": [
    "from sklearn.linear_model import LogisticRegression\n",
    "from sklearn.model_selection import train_test_split\n",
    "from sklearn.metrics import accuracy_score, precision_score"
   ]
  },
  {
   "cell_type": "code",
   "execution_count": 37,
   "metadata": {},
   "outputs": [
    {
     "data": {
      "text/html": [
       "<div>\n",
       "<style scoped>\n",
       "    .dataframe tbody tr th:only-of-type {\n",
       "        vertical-align: middle;\n",
       "    }\n",
       "\n",
       "    .dataframe tbody tr th {\n",
       "        vertical-align: top;\n",
       "    }\n",
       "\n",
       "    .dataframe thead th {\n",
       "        text-align: right;\n",
       "    }\n",
       "</style>\n",
       "<table border=\"1\" class=\"dataframe\">\n",
       "  <thead>\n",
       "    <tr style=\"text-align: right;\">\n",
       "      <th></th>\n",
       "      <th>driver_id</th>\n",
       "      <th>offer_id</th>\n",
       "      <th>departure</th>\n",
       "      <th>arrival</th>\n",
       "      <th>trip_distance</th>\n",
       "      <th>offer_date</th>\n",
       "      <th>departure_date</th>\n",
       "      <th>price</th>\n",
       "      <th>nb_offers</th>\n",
       "      <th>photo</th>\n",
       "      <th>...</th>\n",
       "      <th>seat_sold</th>\n",
       "      <th>Driver_first_name</th>\n",
       "      <th>Satisfaction_Livel</th>\n",
       "      <th>nb_evaluation</th>\n",
       "      <th>driver_age</th>\n",
       "      <th>driver_gender</th>\n",
       "      <th>Business_Index</th>\n",
       "      <th>Confort_Index</th>\n",
       "      <th>BlaBlaCar_Index</th>\n",
       "      <th>Recommendation</th>\n",
       "    </tr>\n",
       "  </thead>\n",
       "  <tbody>\n",
       "    <tr>\n",
       "      <th>0</th>\n",
       "      <td>123956.0</td>\n",
       "      <td>427719.0</td>\n",
       "      <td>Lyon</td>\n",
       "      <td>Paris</td>\n",
       "      <td>425.0</td>\n",
       "      <td>5-Jan-14</td>\n",
       "      <td>1/12/2014 17:30</td>\n",
       "      <td>28.0</td>\n",
       "      <td>526.0</td>\n",
       "      <td>0.0</td>\n",
       "      <td>...</td>\n",
       "      <td>0.0</td>\n",
       "      <td>Francois</td>\n",
       "      <td>Excellent</td>\n",
       "      <td>0.0</td>\n",
       "      <td>25.0</td>\n",
       "      <td>0.0</td>\n",
       "      <td>12355.279975</td>\n",
       "      <td>21.0</td>\n",
       "      <td>561.603635</td>\n",
       "      <td>1</td>\n",
       "    </tr>\n",
       "    <tr>\n",
       "      <th>1</th>\n",
       "      <td>81617.0</td>\n",
       "      <td>280534.0</td>\n",
       "      <td>Lyon</td>\n",
       "      <td>Paris</td>\n",
       "      <td>429.0</td>\n",
       "      <td>2-Jan-14</td>\n",
       "      <td>1/6/2014 14:40</td>\n",
       "      <td>30.0</td>\n",
       "      <td>526.0</td>\n",
       "      <td>0.0</td>\n",
       "      <td>...</td>\n",
       "      <td>0.0</td>\n",
       "      <td>Corinne</td>\n",
       "      <td>Good</td>\n",
       "      <td>24.0</td>\n",
       "      <td>31.0</td>\n",
       "      <td>1.0</td>\n",
       "      <td>12381.855057</td>\n",
       "      <td>21.0</td>\n",
       "      <td>562.811594</td>\n",
       "      <td>1</td>\n",
       "    </tr>\n",
       "    <tr>\n",
       "      <th>2</th>\n",
       "      <td>198167.0</td>\n",
       "      <td>657605.0</td>\n",
       "      <td>Lyon</td>\n",
       "      <td>Paris</td>\n",
       "      <td>429.0</td>\n",
       "      <td>2-Jan-14</td>\n",
       "      <td>1/6/2014 15:10</td>\n",
       "      <td>31.0</td>\n",
       "      <td>526.0</td>\n",
       "      <td>1.0</td>\n",
       "      <td>...</td>\n",
       "      <td>0.0</td>\n",
       "      <td>Laura</td>\n",
       "      <td>Excellent</td>\n",
       "      <td>1.0</td>\n",
       "      <td>31.0</td>\n",
       "      <td>1.0</td>\n",
       "      <td>12381.855057</td>\n",
       "      <td>21.0</td>\n",
       "      <td>562.811594</td>\n",
       "      <td>1</td>\n",
       "    </tr>\n",
       "    <tr>\n",
       "      <th>3</th>\n",
       "      <td>282817.0</td>\n",
       "      <td>946022.0</td>\n",
       "      <td>Lyon</td>\n",
       "      <td>Paris</td>\n",
       "      <td>429.0</td>\n",
       "      <td>2-Jan-14</td>\n",
       "      <td>1/6/2014 15:30</td>\n",
       "      <td>25.0</td>\n",
       "      <td>526.0</td>\n",
       "      <td>1.0</td>\n",
       "      <td>...</td>\n",
       "      <td>3.0</td>\n",
       "      <td>Philippe</td>\n",
       "      <td>VeryGood</td>\n",
       "      <td>3.0</td>\n",
       "      <td>31.0</td>\n",
       "      <td>0.0</td>\n",
       "      <td>12381.855057</td>\n",
       "      <td>23.0</td>\n",
       "      <td>515.910627</td>\n",
       "      <td>1</td>\n",
       "    </tr>\n",
       "    <tr>\n",
       "      <th>4</th>\n",
       "      <td>29640.0</td>\n",
       "      <td>94886.0</td>\n",
       "      <td>Lyon</td>\n",
       "      <td>Paris</td>\n",
       "      <td>435.0</td>\n",
       "      <td>5-Jan-14</td>\n",
       "      <td>1/19/2014 9:00</td>\n",
       "      <td>25.0</td>\n",
       "      <td>526.0</td>\n",
       "      <td>1.0</td>\n",
       "      <td>...</td>\n",
       "      <td>4.0</td>\n",
       "      <td>Antoine</td>\n",
       "      <td>VeryGood</td>\n",
       "      <td>10.0</td>\n",
       "      <td>26.0</td>\n",
       "      <td>0.0</td>\n",
       "      <td>12773.689305</td>\n",
       "      <td>7.0</td>\n",
       "      <td>1596.711163</td>\n",
       "      <td>1</td>\n",
       "    </tr>\n",
       "  </tbody>\n",
       "</table>\n",
       "<p>5 rows × 35 columns</p>\n",
       "</div>"
      ],
      "text/plain": [
       "   driver_id  offer_id departure arrival  trip_distance offer_date  \\\n",
       "0   123956.0  427719.0      Lyon   Paris          425.0   5-Jan-14   \n",
       "1    81617.0  280534.0      Lyon   Paris          429.0   2-Jan-14   \n",
       "2   198167.0  657605.0      Lyon   Paris          429.0   2-Jan-14   \n",
       "3   282817.0  946022.0      Lyon   Paris          429.0   2-Jan-14   \n",
       "4    29640.0   94886.0      Lyon   Paris          435.0   5-Jan-14   \n",
       "\n",
       "    departure_date  price  nb_offers  photo  ... seat_sold  Driver_first_name  \\\n",
       "0  1/12/2014 17:30   28.0      526.0    0.0  ...       0.0           Francois   \n",
       "1   1/6/2014 14:40   30.0      526.0    0.0  ...       0.0            Corinne   \n",
       "2   1/6/2014 15:10   31.0      526.0    1.0  ...       0.0              Laura   \n",
       "3   1/6/2014 15:30   25.0      526.0    1.0  ...       3.0           Philippe   \n",
       "4   1/19/2014 9:00   25.0      526.0    1.0  ...       4.0            Antoine   \n",
       "\n",
       "   Satisfaction_Livel  nb_evaluation  driver_age  driver_gender  \\\n",
       "0           Excellent            0.0        25.0            0.0   \n",
       "1                Good           24.0        31.0            1.0   \n",
       "2           Excellent            1.0        31.0            1.0   \n",
       "3            VeryGood            3.0        31.0            0.0   \n",
       "4            VeryGood           10.0        26.0            0.0   \n",
       "\n",
       "   Business_Index  Confort_Index  BlaBlaCar_Index  Recommendation  \n",
       "0    12355.279975           21.0       561.603635               1  \n",
       "1    12381.855057           21.0       562.811594               1  \n",
       "2    12381.855057           21.0       562.811594               1  \n",
       "3    12381.855057           23.0       515.910627               1  \n",
       "4    12773.689305            7.0      1596.711163               1  \n",
       "\n",
       "[5 rows x 35 columns]"
      ]
     },
     "execution_count": 37,
     "metadata": {},
     "output_type": "execute_result"
    }
   ],
   "source": [
    "conditions = [df['Satisfaction_Livel'] == 'VeryGood',\n",
    "            (df['Satisfaction_Livel'] == 'Excellent'),\n",
    "            df['Satisfaction_Livel'] == 'Good']\n",
    "values = [1, 1, 1]\n",
    "\n",
    "df['Recommendation'] = np.select(conditions, values, 0)\n",
    "\n",
    "df.head()"
   ]
  },
  {
   "cell_type": "code",
   "execution_count": null,
   "metadata": {},
   "outputs": [],
   "source": []
  },
  {
   "cell_type": "markdown",
   "metadata": {},
   "source": [
    "# Machine Learning Algorithm"
   ]
  },
  {
   "cell_type": "markdown",
   "metadata": {},
   "source": [
    "## Supervised Machine Learning"
   ]
  },
  {
   "cell_type": "code",
   "execution_count": 38,
   "metadata": {},
   "outputs": [],
   "source": [
    "from sklearn.linear_model import LogisticRegression\n",
    "from sklearn.model_selection import train_test_split\n",
    "from sklearn.metrics import accuracy_score, precision_score"
   ]
  },
  {
   "cell_type": "code",
   "execution_count": 39,
   "metadata": {},
   "outputs": [
    {
     "name": "stdout",
     "output_type": "stream",
     "text": [
      "Accuracy:  0.8044933078393881\n",
      "Precision:  0.8044933078393881\n"
     ]
    }
   ],
   "source": [
    "# Preparation of variables of modèle de regression\n",
    "\n",
    "X = df[['music', 'talk', 'pet', 'smoking', 'detour_time']]\n",
    "y = df['Recommendation']\n",
    "\n",
    "# Preparation of splits data of modèle de regression\n",
    "\n",
    "X_train, X_test, y_train, y_test = train_test_split(X, y, test_size = 0.15, random_state = 117)\n",
    "\n",
    "logreg = LogisticRegression()\n",
    "logreg.fit(X_train, y_train)\n",
    "pred = logreg.predict(X_test)\n",
    "\n",
    "print('Accuracy: ', accuracy_score(y_test, pred))\n",
    "print('Precision: ', precision_score(y_test, pred))"
   ]
  },
  {
   "cell_type": "code",
   "execution_count": 40,
   "metadata": {},
   "outputs": [],
   "source": [
    "# fit\n",
    "logistic_regression= LogisticRegression()\n",
    "logistic_regression.fit(X_train,y_train)\n",
    "y_pred=logistic_regression.predict(X_test)"
   ]
  },
  {
   "cell_type": "code",
   "execution_count": 41,
   "metadata": {},
   "outputs": [
    {
     "data": {
      "image/png": "[encoded data removed]",
      "text/plain": [
       "<Figure size 640x480 with 2 Axes>"
      ]
     },
     "metadata": {},
     "output_type": "display_data"
    }
   ],
   "source": [
    "from sklearn.metrics import confusion_matrix\n",
    "import seaborn as sns\n",
    "\n",
    "cm = confusion_matrix(y_test,y_pred)\n",
    "sns.heatmap(cm,annot=True,fmt='d',xticklabels=['0','1'],yticklabels=['0','1'])\n",
    "plt.ylabel(\"actual\",fontsize=13)\n",
    "plt.xlabel(\"pred\",fontsize=17)\n",
    "plt.title('confusion matrix',fontsize=17)\n",
    "plt.show()"
   ]
  },
  {
   "cell_type": "code",
   "execution_count": 42,
   "metadata": {},
   "outputs": [
    {
     "name": "stdout",
     "output_type": "stream",
     "text": [
      "Intercept: \n",
      " [0.69402083]\n",
      "Coefficients: \n",
      " [[ 0.01614219  0.69189424 -0.0287026  -0.02538183  0.00114085]]\n"
     ]
    }
   ],
   "source": [
    "# Intercept   and  Coefficients: \n",
    "logistic_regression= LogisticRegression()\n",
    "logistic_regression.fit(X_train,y_train)\n",
    "y_pred=logistic_regression.predict(X_test)\n",
    "print('Intercept: \\n', logistic_regression.intercept_)\n",
    "print('Coefficients: \\n', logistic_regression.coef_)\n"
   ]
  },
  {
   "cell_type": "code",
   "execution_count": 43,
   "metadata": {},
   "outputs": [
    {
     "name": "stdout",
     "output_type": "stream",
     "text": [
      "Optimization terminated successfully.\n",
      "         Current function value: 0.496865\n",
      "         Iterations 5\n",
      "                           Logit Regression Results                           \n",
      "==============================================================================\n",
      "Dep. Variable:         Recommendation   No. Observations:                97625\n",
      "Model:                          Logit   Df Residuals:                    97620\n",
      "Method:                           MLE   Df Model:                            4\n",
      "Date:                Sun, 26 Nov 2023   Pseudo R-squ.:               4.859e-05\n",
      "Time:                        18:16:25   Log-Likelihood:                -48506.\n",
      "converged:                       True   LL-Null:                       -48509.\n",
      "Covariance Type:            nonrobust   LLR p-value:                    0.3179\n",
      "===============================================================================\n",
      "                  coef    std err          z      P>|z|      [0.025      0.975]\n",
      "-------------------------------------------------------------------------------\n",
      "music           0.0246      0.017      1.478      0.139      -0.008       0.057\n",
      "talk            1.3841      0.015     94.360      0.000       1.355       1.413\n",
      "pet            -0.0285      0.029     -0.968      0.333      -0.086       0.029\n",
      "smoking        -0.0337      0.035     -0.964      0.335      -0.102       0.035\n",
      "detour_time     0.0011      0.001      1.077      0.282      -0.001       0.003\n",
      "===============================================================================\n"
     ]
    }
   ],
   "source": [
    "#  logit model summary via  statsmodels.api \n",
    "\n",
    "X= sm.add_constant(X)\n",
    "logit_model = sm.Logit(y, X).fit()\n",
    "print (logit_model.summary())"
   ]
  },
  {
   "cell_type": "code",
   "execution_count": null,
   "metadata": {},
   "outputs": [],
   "source": []
  },
  {
   "cell_type": "code",
   "execution_count": null,
   "metadata": {},
   "outputs": [],
   "source": []
  },
  {
   "cell_type": "markdown",
   "metadata": {},
   "source": [
    " # # b) Unsupervised Machine Learning"
   ]
  },
  {
   "cell_type": "code",
   "execution_count": 44,
   "metadata": {},
   "outputs": [],
   "source": [
    "# Import required packages\n",
    "from sklearn.metrics import silhouette_score\n",
    "from sklearn.preprocessing import MinMaxScaler\n",
    "from sklearn.cluster import KMeans\n"
   ]
  },
  {
   "cell_type": "code",
   "execution_count": 45,
   "metadata": {},
   "outputs": [],
   "source": [
    "#read data \n",
    "kmeans_data = df[['trip_distance','mean_price_depd']]\n",
    "x = kmeans_data['trip_distance']\n",
    "y = kmeans_data['mean_price_depd']"
   ]
  },
  {
   "cell_type": "code",
   "execution_count": 46,
   "metadata": {},
   "outputs": [
    {
     "data": {
      "image/png": "[encoded data removed]",
      "text/plain": [
       "<Figure size 1000x600 with 1 Axes>"
      ]
     },
     "metadata": {},
     "output_type": "display_data"
    }
   ],
   "source": [
    "# Plot the random blub data\n",
    "plt.figure(figsize=(10, 6))\n",
    "plt.scatter(x, y, s=20)\n",
    "plt.title(f\"No Clusters Assigned\");"
   ]
  },
  {
   "cell_type": "code",
   "execution_count": null,
   "metadata": {},
   "outputs": [],
   "source": []
  },
  {
   "cell_type": "code",
   "execution_count": 47,
   "metadata": {},
   "outputs": [
    {
     "name": "stderr",
     "output_type": "stream",
     "text": [
      "C:\\Users\\ahmed.atil\\AppData\\Local\\anaconda3\\Lib\\site-packages\\sklearn\\cluster\\_kmeans.py:1412: FutureWarning: The default value of `n_init` will change from 10 to 'auto' in 1.4. Set the value of `n_init` explicitly to suppress the warning\n",
      "  super()._check_params_vs_input(X, default_n_init=10)\n"
     ]
    },
    {
     "name": "stdout",
     "output_type": "stream",
     "text": [
      "[[ 465.8857774    29.6682372 ]\n",
      " [1230.84090909   29.84046277]\n",
      " [ 520.41233091   29.79949496]\n",
      " [ 439.34807839   29.68813274]]\n"
     ]
    }
   ],
   "source": [
    "kmeans = KMeans(n_clusters=4).fit(kmeans_data)\n",
    "centroids = kmeans.cluster_centers_\n",
    "\n",
    "print(centroids)"
   ]
  },
  {
   "cell_type": "code",
   "execution_count": 48,
   "metadata": {},
   "outputs": [
    {
     "data": {
      "text/plain": [
       "<matplotlib.collections.PathCollection at 0x24c5e2d0250>"
      ]
     },
     "execution_count": 48,
     "metadata": {},
     "output_type": "execute_result"
    },
    {
     "data": {
      "image/png": "[encoded data removed]",
      "text/plain": [
       "<Figure size 640x480 with 1 Axes>"
      ]
     },
     "metadata": {},
     "output_type": "display_data"
    }
   ],
   "source": [
    "plt.scatter(x, y, c= kmeans.labels_.astype(float), s=50, alpha=0.9)\n",
    "plt.scatter(centroids[:, 0], centroids[:, 1], c='red', s=100)"
   ]
  },
  {
   "cell_type": "markdown",
   "metadata": {},
   "source": [
    "# Step 5 :  a ) The Elbow Method showing the optimal k"
   ]
  },
  {
   "cell_type": "code",
   "execution_count": 49,
   "metadata": {},
   "outputs": [
    {
     "name": "stderr",
     "output_type": "stream",
     "text": [
      "C:\\Users\\ahmed.atil\\AppData\\Local\\anaconda3\\Lib\\site-packages\\sklearn\\cluster\\_kmeans.py:1412: FutureWarning: The default value of `n_init` will change from 10 to 'auto' in 1.4. Set the value of `n_init` explicitly to suppress the warning\n",
      "  super()._check_params_vs_input(X, default_n_init=10)\n",
      "C:\\Users\\ahmed.atil\\AppData\\Local\\anaconda3\\Lib\\site-packages\\sklearn\\cluster\\_kmeans.py:1412: FutureWarning: The default value of `n_init` will change from 10 to 'auto' in 1.4. Set the value of `n_init` explicitly to suppress the warning\n",
      "  super()._check_params_vs_input(X, default_n_init=10)\n",
      "C:\\Users\\ahmed.atil\\AppData\\Local\\anaconda3\\Lib\\site-packages\\sklearn\\cluster\\_kmeans.py:1412: FutureWarning: The default value of `n_init` will change from 10 to 'auto' in 1.4. Set the value of `n_init` explicitly to suppress the warning\n",
      "  super()._check_params_vs_input(X, default_n_init=10)\n",
      "C:\\Users\\ahmed.atil\\AppData\\Local\\anaconda3\\Lib\\site-packages\\sklearn\\cluster\\_kmeans.py:1412: FutureWarning: The default value of `n_init` will change from 10 to 'auto' in 1.4. Set the value of `n_init` explicitly to suppress the warning\n",
      "  super()._check_params_vs_input(X, default_n_init=10)\n",
      "C:\\Users\\ahmed.atil\\AppData\\Local\\anaconda3\\Lib\\site-packages\\sklearn\\cluster\\_kmeans.py:1412: FutureWarning: The default value of `n_init` will change from 10 to 'auto' in 1.4. Set the value of `n_init` explicitly to suppress the warning\n",
      "  super()._check_params_vs_input(X, default_n_init=10)\n",
      "C:\\Users\\ahmed.atil\\AppData\\Local\\anaconda3\\Lib\\site-packages\\sklearn\\cluster\\_kmeans.py:1412: FutureWarning: The default value of `n_init` will change from 10 to 'auto' in 1.4. Set the value of `n_init` explicitly to suppress the warning\n",
      "  super()._check_params_vs_input(X, default_n_init=10)\n",
      "C:\\Users\\ahmed.atil\\AppData\\Local\\anaconda3\\Lib\\site-packages\\sklearn\\cluster\\_kmeans.py:1412: FutureWarning: The default value of `n_init` will change from 10 to 'auto' in 1.4. Set the value of `n_init` explicitly to suppress the warning\n",
      "  super()._check_params_vs_input(X, default_n_init=10)\n",
      "C:\\Users\\ahmed.atil\\AppData\\Local\\anaconda3\\Lib\\site-packages\\sklearn\\cluster\\_kmeans.py:1412: FutureWarning: The default value of `n_init` will change from 10 to 'auto' in 1.4. Set the value of `n_init` explicitly to suppress the warning\n",
      "  super()._check_params_vs_input(X, default_n_init=10)\n",
      "C:\\Users\\ahmed.atil\\AppData\\Local\\anaconda3\\Lib\\site-packages\\sklearn\\cluster\\_kmeans.py:1412: FutureWarning: The default value of `n_init` will change from 10 to 'auto' in 1.4. Set the value of `n_init` explicitly to suppress the warning\n",
      "  super()._check_params_vs_input(X, default_n_init=10)\n"
     ]
    }
   ],
   "source": [
    "distortions = []\n",
    "K = range(1,10)\n",
    "for k in K:\n",
    "    kmeanModel = KMeans(n_clusters=k)\n",
    "    kmeanModel.fit(kmeans_data)\n",
    "    distortions.append(kmeanModel.inertia_)"
   ]
  },
  {
   "cell_type": "code",
   "execution_count": 50,
   "metadata": {},
   "outputs": [
    {
     "data": {
      "image/png": "[encoded data removed]",
      "text/plain": [
       "<Figure size 800x400 with 1 Axes>"
      ]
     },
     "metadata": {},
     "output_type": "display_data"
    }
   ],
   "source": [
    "    plt.figure(figsize=(8,4))\n",
    "    plt.plot(K, distortions, 'bx-')\n",
    "    plt.xlabel('k')\n",
    "    plt.ylabel('Distortion')\n",
    "    plt.title('The Elbow Method showing the optimal k')\n",
    "    plt.show()"
   ]
  },
  {
   "cell_type": "code",
   "execution_count": null,
   "metadata": {},
   "outputs": [],
   "source": []
  },
  {
   "cell_type": "markdown",
   "metadata": {},
   "source": [
    "# Step 5 : b) The 'Silhouette Method' showing the optimal k\n"
   ]
  },
  {
   "cell_type": "code",
   "execution_count": 51,
   "metadata": {},
   "outputs": [],
   "source": [
    "from sklearn.datasets import make_blobs\n",
    "from sklearn.cluster import KMeans\n",
    "from sklearn.metrics import silhouette_samples, silhouette_score\n",
    "from sklearn.preprocessing import MinMaxScaler\n",
    "import matplotlib.pyplot as plt\n",
    "import matplotlib.cm as cm"
   ]
  },
  {
   "cell_type": "code",
   "execution_count": 52,
   "metadata": {},
   "outputs": [
    {
     "name": "stderr",
     "output_type": "stream",
     "text": [
      "C:\\Users\\ahmed.atil\\AppData\\Local\\anaconda3\\Lib\\site-packages\\sklearn\\cluster\\_kmeans.py:1412: FutureWarning: The default value of `n_init` will change from 10 to 'auto' in 1.4. Set the value of `n_init` explicitly to suppress the warning\n",
      "  super()._check_params_vs_input(X, default_n_init=10)\n",
      "C:\\Users\\ahmed.atil\\AppData\\Local\\anaconda3\\Lib\\site-packages\\sklearn\\cluster\\_kmeans.py:1412: FutureWarning: The default value of `n_init` will change from 10 to 'auto' in 1.4. Set the value of `n_init` explicitly to suppress the warning\n",
      "  super()._check_params_vs_input(X, default_n_init=10)\n",
      "C:\\Users\\ahmed.atil\\AppData\\Local\\anaconda3\\Lib\\site-packages\\sklearn\\cluster\\_kmeans.py:1412: FutureWarning: The default value of `n_init` will change from 10 to 'auto' in 1.4. Set the value of `n_init` explicitly to suppress the warning\n",
      "  super()._check_params_vs_input(X, default_n_init=10)\n",
      "C:\\Users\\ahmed.atil\\AppData\\Local\\anaconda3\\Lib\\site-packages\\sklearn\\cluster\\_kmeans.py:1412: FutureWarning: The default value of `n_init` will change from 10 to 'auto' in 1.4. Set the value of `n_init` explicitly to suppress the warning\n",
      "  super()._check_params_vs_input(X, default_n_init=10)\n",
      "C:\\Users\\ahmed.atil\\AppData\\Local\\anaconda3\\Lib\\site-packages\\sklearn\\cluster\\_kmeans.py:1412: FutureWarning: The default value of `n_init` will change from 10 to 'auto' in 1.4. Set the value of `n_init` explicitly to suppress the warning\n",
      "  super()._check_params_vs_input(X, default_n_init=10)\n",
      "C:\\Users\\ahmed.atil\\AppData\\Local\\anaconda3\\Lib\\site-packages\\sklearn\\cluster\\_kmeans.py:1412: FutureWarning: The default value of `n_init` will change from 10 to 'auto' in 1.4. Set the value of `n_init` explicitly to suppress the warning\n",
      "  super()._check_params_vs_input(X, default_n_init=10)\n",
      "C:\\Users\\ahmed.atil\\AppData\\Local\\anaconda3\\Lib\\site-packages\\sklearn\\cluster\\_kmeans.py:1412: FutureWarning: The default value of `n_init` will change from 10 to 'auto' in 1.4. Set the value of `n_init` explicitly to suppress the warning\n",
      "  super()._check_params_vs_input(X, default_n_init=10)\n",
      "C:\\Users\\ahmed.atil\\AppData\\Local\\anaconda3\\Lib\\site-packages\\sklearn\\cluster\\_kmeans.py:1412: FutureWarning: The default value of `n_init` will change from 10 to 'auto' in 1.4. Set the value of `n_init` explicitly to suppress the warning\n",
      "  super()._check_params_vs_input(X, default_n_init=10)\n"
     ]
    },
    {
     "data": {
      "image/png": "[encoded data removed]",
      "text/plain": [
       "<Figure size 640x480 with 1 Axes>"
      ]
     },
     "metadata": {},
     "output_type": "display_data"
    },
    {
     "name": "stdout",
     "output_type": "stream",
     "text": [
      "2:0.7778828306737146\n",
      "3:0.7613619277134338\n",
      "4:0.6704148946238218\n",
      "5:0.6898181665146467\n"
     ]
    }
   ],
   "source": [
    "from sklearn.metrics import silhouette_score\n",
    "sil = []\n",
    "for k in range(2, 6):\n",
    "    kmeans = KMeans(n_clusters = k).fit(kmeans_data)  \n",
    "    preds = kmeans.fit_predict(kmeans_data)\n",
    "    sil.append(silhouette_score(kmeans_data, preds, metric = 'euclidean'))\n",
    "\n",
    "plt.plot(range(2, 6), sil)\n",
    "plt.title('Silhouette Method')\n",
    "plt.xlabel('Number of clusters')\n",
    "plt.ylabel('Sil')\n",
    "plt.show()\n",
    "\n",
    "for i in range(len(sil)):\n",
    "     print(str(i+2) +\":\"+ str(sil[i]))"
   ]
  },
  {
   "cell_type": "code",
   "execution_count": 58,
   "metadata": {},
   "outputs": [],
   "source": [
    "#max(sil)"
   ]
  },
  {
   "cell_type": "code",
   "execution_count": 61,
   "metadata": {},
   "outputs": [
    {
     "name": "stderr",
     "output_type": "stream",
     "text": [
      "C:\\Users\\ahmed.atil\\AppData\\Local\\anaconda3\\Lib\\site-packages\\sklearn\\cluster\\_kmeans.py:1412: FutureWarning: The default value of `n_init` will change from 10 to 'auto' in 1.4. Set the value of `n_init` explicitly to suppress the warning\n",
      "  super()._check_params_vs_input(X, default_n_init=10)\n"
     ]
    },
    {
     "data": {
      "image/png": "[encoded data removed]",
      "text/plain": [
       "<Figure size 640x480 with 1 Axes>"
      ]
     },
     "metadata": {},
     "output_type": "display_data"
    }
   ],
   "source": [
    "kmeans = KMeans(n_clusters=2).fit(kmeans_data)\n",
    "centroids = kmeans.cluster_centers_\n",
    "\n",
    "plt.scatter(x, y, c= kmeans.labels_.astype(int), s=50, alpha=0.8)\n",
    "plt.scatter(centroids[:, 0], centroids[:, 1], c='red', s=500);"
   ]
  },
  {
   "cell_type": "code",
   "execution_count": 60,
   "metadata": {},
   "outputs": [
    {
     "data": {
      "text/html": [
       "<div>\n",
       "<style scoped>\n",
       "    .dataframe tbody tr th:only-of-type {\n",
       "        vertical-align: middle;\n",
       "    }\n",
       "\n",
       "    .dataframe tbody tr th {\n",
       "        vertical-align: top;\n",
       "    }\n",
       "\n",
       "    .dataframe thead th {\n",
       "        text-align: right;\n",
       "    }\n",
       "</style>\n",
       "<table border=\"1\" class=\"dataframe\">\n",
       "  <thead>\n",
       "    <tr style=\"text-align: right;\">\n",
       "      <th></th>\n",
       "      <th>driver_id</th>\n",
       "      <th>offer_id</th>\n",
       "      <th>departure</th>\n",
       "      <th>arrival</th>\n",
       "      <th>trip_distance</th>\n",
       "      <th>offer_date</th>\n",
       "      <th>departure_date</th>\n",
       "      <th>price</th>\n",
       "      <th>nb_offers</th>\n",
       "      <th>photo</th>\n",
       "      <th>...</th>\n",
       "      <th>Driver_first_name</th>\n",
       "      <th>Satisfaction_Livel</th>\n",
       "      <th>nb_evaluation</th>\n",
       "      <th>driver_age</th>\n",
       "      <th>driver_gender</th>\n",
       "      <th>Business_Index</th>\n",
       "      <th>Confort_Index</th>\n",
       "      <th>BlaBlaCar_Index</th>\n",
       "      <th>Recommendation</th>\n",
       "      <th>Cluster</th>\n",
       "    </tr>\n",
       "  </thead>\n",
       "  <tbody>\n",
       "    <tr>\n",
       "      <th>0</th>\n",
       "      <td>123956.0</td>\n",
       "      <td>427719.0</td>\n",
       "      <td>Lyon</td>\n",
       "      <td>Paris</td>\n",
       "      <td>425.0</td>\n",
       "      <td>5-Jan-14</td>\n",
       "      <td>1/12/2014 17:30</td>\n",
       "      <td>28.0</td>\n",
       "      <td>526.0</td>\n",
       "      <td>0.0</td>\n",
       "      <td>...</td>\n",
       "      <td>Francois</td>\n",
       "      <td>Excellent</td>\n",
       "      <td>0.0</td>\n",
       "      <td>25.0</td>\n",
       "      <td>0.0</td>\n",
       "      <td>12355.279975</td>\n",
       "      <td>21.0</td>\n",
       "      <td>561.603635</td>\n",
       "      <td>1</td>\n",
       "      <td>1</td>\n",
       "    </tr>\n",
       "    <tr>\n",
       "      <th>1</th>\n",
       "      <td>81617.0</td>\n",
       "      <td>280534.0</td>\n",
       "      <td>Lyon</td>\n",
       "      <td>Paris</td>\n",
       "      <td>429.0</td>\n",
       "      <td>2-Jan-14</td>\n",
       "      <td>1/6/2014 14:40</td>\n",
       "      <td>30.0</td>\n",
       "      <td>526.0</td>\n",
       "      <td>0.0</td>\n",
       "      <td>...</td>\n",
       "      <td>Corinne</td>\n",
       "      <td>Good</td>\n",
       "      <td>24.0</td>\n",
       "      <td>31.0</td>\n",
       "      <td>1.0</td>\n",
       "      <td>12381.855057</td>\n",
       "      <td>21.0</td>\n",
       "      <td>562.811594</td>\n",
       "      <td>1</td>\n",
       "      <td>1</td>\n",
       "    </tr>\n",
       "    <tr>\n",
       "      <th>2</th>\n",
       "      <td>198167.0</td>\n",
       "      <td>657605.0</td>\n",
       "      <td>Lyon</td>\n",
       "      <td>Paris</td>\n",
       "      <td>429.0</td>\n",
       "      <td>2-Jan-14</td>\n",
       "      <td>1/6/2014 15:10</td>\n",
       "      <td>31.0</td>\n",
       "      <td>526.0</td>\n",
       "      <td>1.0</td>\n",
       "      <td>...</td>\n",
       "      <td>Laura</td>\n",
       "      <td>Excellent</td>\n",
       "      <td>1.0</td>\n",
       "      <td>31.0</td>\n",
       "      <td>1.0</td>\n",
       "      <td>12381.855057</td>\n",
       "      <td>21.0</td>\n",
       "      <td>562.811594</td>\n",
       "      <td>1</td>\n",
       "      <td>1</td>\n",
       "    </tr>\n",
       "    <tr>\n",
       "      <th>3</th>\n",
       "      <td>282817.0</td>\n",
       "      <td>946022.0</td>\n",
       "      <td>Lyon</td>\n",
       "      <td>Paris</td>\n",
       "      <td>429.0</td>\n",
       "      <td>2-Jan-14</td>\n",
       "      <td>1/6/2014 15:30</td>\n",
       "      <td>25.0</td>\n",
       "      <td>526.0</td>\n",
       "      <td>1.0</td>\n",
       "      <td>...</td>\n",
       "      <td>Philippe</td>\n",
       "      <td>VeryGood</td>\n",
       "      <td>3.0</td>\n",
       "      <td>31.0</td>\n",
       "      <td>0.0</td>\n",
       "      <td>12381.855057</td>\n",
       "      <td>23.0</td>\n",
       "      <td>515.910627</td>\n",
       "      <td>1</td>\n",
       "      <td>1</td>\n",
       "    </tr>\n",
       "    <tr>\n",
       "      <th>4</th>\n",
       "      <td>29640.0</td>\n",
       "      <td>94886.0</td>\n",
       "      <td>Lyon</td>\n",
       "      <td>Paris</td>\n",
       "      <td>435.0</td>\n",
       "      <td>5-Jan-14</td>\n",
       "      <td>1/19/2014 9:00</td>\n",
       "      <td>25.0</td>\n",
       "      <td>526.0</td>\n",
       "      <td>1.0</td>\n",
       "      <td>...</td>\n",
       "      <td>Antoine</td>\n",
       "      <td>VeryGood</td>\n",
       "      <td>10.0</td>\n",
       "      <td>26.0</td>\n",
       "      <td>0.0</td>\n",
       "      <td>12773.689305</td>\n",
       "      <td>7.0</td>\n",
       "      <td>1596.711163</td>\n",
       "      <td>1</td>\n",
       "      <td>1</td>\n",
       "    </tr>\n",
       "    <tr>\n",
       "      <th>...</th>\n",
       "      <td>...</td>\n",
       "      <td>...</td>\n",
       "      <td>...</td>\n",
       "      <td>...</td>\n",
       "      <td>...</td>\n",
       "      <td>...</td>\n",
       "      <td>...</td>\n",
       "      <td>...</td>\n",
       "      <td>...</td>\n",
       "      <td>...</td>\n",
       "      <td>...</td>\n",
       "      <td>...</td>\n",
       "      <td>...</td>\n",
       "      <td>...</td>\n",
       "      <td>...</td>\n",
       "      <td>...</td>\n",
       "      <td>...</td>\n",
       "      <td>...</td>\n",
       "      <td>...</td>\n",
       "      <td>...</td>\n",
       "      <td>...</td>\n",
       "    </tr>\n",
       "    <tr>\n",
       "      <th>97620</th>\n",
       "      <td>315770.0</td>\n",
       "      <td>1055947.0</td>\n",
       "      <td>Lyon</td>\n",
       "      <td>Paris</td>\n",
       "      <td>506.0</td>\n",
       "      <td>5-Mar-14</td>\n",
       "      <td>3/14/2014 14:30</td>\n",
       "      <td>28.0</td>\n",
       "      <td>834.0</td>\n",
       "      <td>1.0</td>\n",
       "      <td>...</td>\n",
       "      <td>Solange</td>\n",
       "      <td>Good</td>\n",
       "      <td>2.0</td>\n",
       "      <td>49.0</td>\n",
       "      <td>1.0</td>\n",
       "      <td>15148.761078</td>\n",
       "      <td>20.0</td>\n",
       "      <td>721.369575</td>\n",
       "      <td>1</td>\n",
       "      <td>2</td>\n",
       "    </tr>\n",
       "    <tr>\n",
       "      <th>97621</th>\n",
       "      <td>324044.0</td>\n",
       "      <td>1089104.0</td>\n",
       "      <td>Lyon</td>\n",
       "      <td>Paris</td>\n",
       "      <td>506.0</td>\n",
       "      <td>13-Mar-14</td>\n",
       "      <td>3/16/2014 17:45</td>\n",
       "      <td>31.0</td>\n",
       "      <td>834.0</td>\n",
       "      <td>0.0</td>\n",
       "      <td>...</td>\n",
       "      <td>Sylvain</td>\n",
       "      <td>Excellent</td>\n",
       "      <td>15.0</td>\n",
       "      <td>44.0</td>\n",
       "      <td>0.0</td>\n",
       "      <td>14931.587396</td>\n",
       "      <td>7.0</td>\n",
       "      <td>1866.448425</td>\n",
       "      <td>1</td>\n",
       "      <td>2</td>\n",
       "    </tr>\n",
       "    <tr>\n",
       "      <th>97622</th>\n",
       "      <td>175981.0</td>\n",
       "      <td>583045.0</td>\n",
       "      <td>Lyon</td>\n",
       "      <td>Paris</td>\n",
       "      <td>514.0</td>\n",
       "      <td>13-Mar-14</td>\n",
       "      <td>5/4/2014 10:05</td>\n",
       "      <td>37.0</td>\n",
       "      <td>834.0</td>\n",
       "      <td>1.0</td>\n",
       "      <td>...</td>\n",
       "      <td>Jerome</td>\n",
       "      <td>Good</td>\n",
       "      <td>5.0</td>\n",
       "      <td>44.0</td>\n",
       "      <td>0.0</td>\n",
       "      <td>15569.916324</td>\n",
       "      <td>21.0</td>\n",
       "      <td>707.723469</td>\n",
       "      <td>1</td>\n",
       "      <td>2</td>\n",
       "    </tr>\n",
       "    <tr>\n",
       "      <th>97623</th>\n",
       "      <td>123163.0</td>\n",
       "      <td>423113.0</td>\n",
       "      <td>Lyon</td>\n",
       "      <td>Paris</td>\n",
       "      <td>528.0</td>\n",
       "      <td>13-Mar-14</td>\n",
       "      <td>4/13/2014 16:00</td>\n",
       "      <td>28.0</td>\n",
       "      <td>834.0</td>\n",
       "      <td>0.0</td>\n",
       "      <td>...</td>\n",
       "      <td>Franck</td>\n",
       "      <td>VeryGood</td>\n",
       "      <td>16.0</td>\n",
       "      <td>27.0</td>\n",
       "      <td>0.0</td>\n",
       "      <td>15538.286016</td>\n",
       "      <td>6.0</td>\n",
       "      <td>2219.755145</td>\n",
       "      <td>1</td>\n",
       "      <td>2</td>\n",
       "    </tr>\n",
       "    <tr>\n",
       "      <th>97624</th>\n",
       "      <td>331016.0</td>\n",
       "      <td>1113745.0</td>\n",
       "      <td>Lyon</td>\n",
       "      <td>Paris</td>\n",
       "      <td>529.0</td>\n",
       "      <td>13-Mar-14</td>\n",
       "      <td>3/23/2014 17:00</td>\n",
       "      <td>28.0</td>\n",
       "      <td>834.0</td>\n",
       "      <td>1.0</td>\n",
       "      <td>...</td>\n",
       "      <td>Thomas</td>\n",
       "      <td>VeryGood</td>\n",
       "      <td>8.0</td>\n",
       "      <td>25.0</td>\n",
       "      <td>0.0</td>\n",
       "      <td>15819.415433</td>\n",
       "      <td>21.0</td>\n",
       "      <td>719.064338</td>\n",
       "      <td>1</td>\n",
       "      <td>2</td>\n",
       "    </tr>\n",
       "  </tbody>\n",
       "</table>\n",
       "<p>97625 rows × 36 columns</p>\n",
       "</div>"
      ],
      "text/plain": [
       "       driver_id   offer_id departure arrival  trip_distance offer_date  \\\n",
       "0       123956.0   427719.0      Lyon   Paris          425.0   5-Jan-14   \n",
       "1        81617.0   280534.0      Lyon   Paris          429.0   2-Jan-14   \n",
       "2       198167.0   657605.0      Lyon   Paris          429.0   2-Jan-14   \n",
       "3       282817.0   946022.0      Lyon   Paris          429.0   2-Jan-14   \n",
       "4        29640.0    94886.0      Lyon   Paris          435.0   5-Jan-14   \n",
       "...          ...        ...       ...     ...            ...        ...   \n",
       "97620   315770.0  1055947.0      Lyon   Paris          506.0   5-Mar-14   \n",
       "97621   324044.0  1089104.0      Lyon   Paris          506.0  13-Mar-14   \n",
       "97622   175981.0   583045.0      Lyon   Paris          514.0  13-Mar-14   \n",
       "97623   123163.0   423113.0      Lyon   Paris          528.0  13-Mar-14   \n",
       "97624   331016.0  1113745.0      Lyon   Paris          529.0  13-Mar-14   \n",
       "\n",
       "        departure_date  price  nb_offers  photo  ... Driver_first_name  \\\n",
       "0      1/12/2014 17:30   28.0      526.0    0.0  ...          Francois   \n",
       "1       1/6/2014 14:40   30.0      526.0    0.0  ...           Corinne   \n",
       "2       1/6/2014 15:10   31.0      526.0    1.0  ...             Laura   \n",
       "3       1/6/2014 15:30   25.0      526.0    1.0  ...          Philippe   \n",
       "4       1/19/2014 9:00   25.0      526.0    1.0  ...           Antoine   \n",
       "...                ...    ...        ...    ...  ...               ...   \n",
       "97620  3/14/2014 14:30   28.0      834.0    1.0  ...           Solange   \n",
       "97621  3/16/2014 17:45   31.0      834.0    0.0  ...           Sylvain   \n",
       "97622   5/4/2014 10:05   37.0      834.0    1.0  ...            Jerome   \n",
       "97623  4/13/2014 16:00   28.0      834.0    0.0  ...            Franck   \n",
       "97624  3/23/2014 17:00   28.0      834.0    1.0  ...            Thomas   \n",
       "\n",
       "       Satisfaction_Livel  nb_evaluation  driver_age  driver_gender  \\\n",
       "0               Excellent            0.0        25.0            0.0   \n",
       "1                    Good           24.0        31.0            1.0   \n",
       "2               Excellent            1.0        31.0            1.0   \n",
       "3                VeryGood            3.0        31.0            0.0   \n",
       "4                VeryGood           10.0        26.0            0.0   \n",
       "...                   ...            ...         ...            ...   \n",
       "97620                Good            2.0        49.0            1.0   \n",
       "97621           Excellent           15.0        44.0            0.0   \n",
       "97622                Good            5.0        44.0            0.0   \n",
       "97623            VeryGood           16.0        27.0            0.0   \n",
       "97624            VeryGood            8.0        25.0            0.0   \n",
       "\n",
       "       Business_Index  Confort_Index  BlaBlaCar_Index  Recommendation  Cluster  \n",
       "0        12355.279975           21.0       561.603635               1        1  \n",
       "1        12381.855057           21.0       562.811594               1        1  \n",
       "2        12381.855057           21.0       562.811594               1        1  \n",
       "3        12381.855057           23.0       515.910627               1        1  \n",
       "4        12773.689305            7.0      1596.711163               1        1  \n",
       "...               ...            ...              ...             ...      ...  \n",
       "97620    15148.761078           20.0       721.369575               1        2  \n",
       "97621    14931.587396            7.0      1866.448425               1        2  \n",
       "97622    15569.916324           21.0       707.723469               1        2  \n",
       "97623    15538.286016            6.0      2219.755145               1        2  \n",
       "97624    15819.415433           21.0       719.064338               1        2  \n",
       "\n",
       "[97625 rows x 36 columns]"
      ]
     },
     "execution_count": 60,
     "metadata": {},
     "output_type": "execute_result"
    }
   ],
   "source": [
    "c= kmeans.labels_.astype(int)\n",
    "df[\"Cluster\"]  = c +1\n",
    "df"
   ]
  },
  {
   "cell_type": "code",
   "execution_count": null,
   "metadata": {},
   "outputs": [],
   "source": []
  },
  {
   "cell_type": "code",
   "execution_count": null,
   "metadata": {},
   "outputs": [],
   "source": []
  },
  {
   "cell_type": "code",
   "execution_count": null,
   "metadata": {},
   "outputs": [],
   "source": []
  }
 ],
 "metadata": {
  "colab": {
   "provenance": []
  },
  "kernelspec": {
   "display_name": "Python 3 (ipykernel)",
   "language": "python",
   "name": "python3"
  },
  "language_info": {
   "codemirror_mode": {
    "name": "ipython",
    "version": 3
   },
   "file_extension": ".py",
   "mimetype": "text/x-python",
   "name": "python",
   "nbconvert_exporter": "python",
   "pygments_lexer": "ipython3",
   "version": "3.11.5"
  }
 },
 "nbformat": 4,
 "nbformat_minor": 1
}
